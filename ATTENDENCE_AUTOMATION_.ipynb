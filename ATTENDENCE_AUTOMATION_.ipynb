{
  "cells": [
    {
      "cell_type": "markdown",
      "metadata": {
        "id": "view-in-github",
        "colab_type": "text"
      },
      "source": [
        "<a href=\"https://colab.research.google.com/github/Tannishtharoyc/attendence_automation-pynb.ipynb/blob/main/ATTENDENCE_AUTOMATION_.ipynb\" target=\"_parent\"><img src=\"https://colab.research.google.com/assets/colab-badge.svg\" alt=\"Open In Colab\"/></a>"
      ]
    },
    {
      "cell_type": "code",
      "execution_count": null,
      "metadata": {
        "colab": {
          "base_uri": "https://localhost:8080/"
        },
        "id": "Nh4saTIiOqI-",
        "outputId": "e920ae4c-d437-46c3-ead0-3ed8e6de4a7c"
      },
      "outputs": [
        {
          "name": "stdout",
          "output_type": "stream",
          "text": [
            "Collecting deepface\n",
            "  Downloading deepface-0.0.92-py3-none-any.whl (105 kB)\n",
            "\u001b[2K     \u001b[90m━━━━━━━━━━━━━━━━━━━━━━━━━━━━━━━━━━━━━━━━\u001b[0m \u001b[32m105.5/105.5 kB\u001b[0m \u001b[31m983.6 kB/s\u001b[0m eta \u001b[36m0:00:00\u001b[0m\n",
            "\u001b[?25hRequirement already satisfied: requests>=2.27.1 in /usr/local/lib/python3.10/dist-packages (from deepface) (2.31.0)\n",
            "Requirement already satisfied: numpy>=1.14.0 in /usr/local/lib/python3.10/dist-packages (from deepface) (1.25.2)\n",
            "Requirement already satisfied: pandas>=0.23.4 in /usr/local/lib/python3.10/dist-packages (from deepface) (2.0.3)\n",
            "Requirement already satisfied: gdown>=3.10.1 in /usr/local/lib/python3.10/dist-packages (from deepface) (5.1.0)\n",
            "Requirement already satisfied: tqdm>=4.30.0 in /usr/local/lib/python3.10/dist-packages (from deepface) (4.66.4)\n",
            "Requirement already satisfied: Pillow>=5.2.0 in /usr/local/lib/python3.10/dist-packages (from deepface) (9.4.0)\n",
            "Requirement already satisfied: opencv-python>=4.5.5.64 in /usr/local/lib/python3.10/dist-packages (from deepface) (4.8.0.76)\n",
            "Requirement already satisfied: tensorflow>=1.9.0 in /usr/local/lib/python3.10/dist-packages (from deepface) (2.15.0)\n",
            "Requirement already satisfied: keras>=2.2.0 in /usr/local/lib/python3.10/dist-packages (from deepface) (2.15.0)\n",
            "Requirement already satisfied: Flask>=1.1.2 in /usr/local/lib/python3.10/dist-packages (from deepface) (2.2.5)\n",
            "Collecting mtcnn>=0.1.0 (from deepface)\n",
            "  Downloading mtcnn-0.1.1-py3-none-any.whl (2.3 MB)\n",
            "\u001b[2K     \u001b[90m━━━━━━━━━━━━━━━━━━━━━━━━━━━━━━━━━━━━━━━━\u001b[0m \u001b[32m2.3/2.3 MB\u001b[0m \u001b[31m11.8 MB/s\u001b[0m eta \u001b[36m0:00:00\u001b[0m\n",
            "\u001b[?25hCollecting retina-face>=0.0.1 (from deepface)\n",
            "  Downloading retina_face-0.0.17-py3-none-any.whl (25 kB)\n",
            "Collecting fire>=0.4.0 (from deepface)\n",
            "  Downloading fire-0.6.0.tar.gz (88 kB)\n",
            "\u001b[2K     \u001b[90m━━━━━━━━━━━━━━━━━━━━━━━━━━━━━━━━━━━━━━━━\u001b[0m \u001b[32m88.4/88.4 kB\u001b[0m \u001b[31m6.0 MB/s\u001b[0m eta \u001b[36m0:00:00\u001b[0m\n",
            "\u001b[?25h  Preparing metadata (setup.py) ... \u001b[?25l\u001b[?25hdone\n",
            "Collecting gunicorn>=20.1.0 (from deepface)\n",
            "  Downloading gunicorn-22.0.0-py3-none-any.whl (84 kB)\n",
            "\u001b[2K     \u001b[90m━━━━━━━━━━━━━━━━━━━━━━━━━━━━━━━━━━━━━━━━\u001b[0m \u001b[32m84.4/84.4 kB\u001b[0m \u001b[31m6.3 MB/s\u001b[0m eta \u001b[36m0:00:00\u001b[0m\n",
            "\u001b[?25hRequirement already satisfied: six in /usr/local/lib/python3.10/dist-packages (from fire>=0.4.0->deepface) (1.16.0)\n",
            "Requirement already satisfied: termcolor in /usr/local/lib/python3.10/dist-packages (from fire>=0.4.0->deepface) (2.4.0)\n",
            "Requirement already satisfied: Werkzeug>=2.2.2 in /usr/local/lib/python3.10/dist-packages (from Flask>=1.1.2->deepface) (3.0.3)\n",
            "Requirement already satisfied: Jinja2>=3.0 in /usr/local/lib/python3.10/dist-packages (from Flask>=1.1.2->deepface) (3.1.4)\n",
            "Requirement already satisfied: itsdangerous>=2.0 in /usr/local/lib/python3.10/dist-packages (from Flask>=1.1.2->deepface) (2.2.0)\n",
            "Requirement already satisfied: click>=8.0 in /usr/local/lib/python3.10/dist-packages (from Flask>=1.1.2->deepface) (8.1.7)\n",
            "Requirement already satisfied: beautifulsoup4 in /usr/local/lib/python3.10/dist-packages (from gdown>=3.10.1->deepface) (4.12.3)\n",
            "Requirement already satisfied: filelock in /usr/local/lib/python3.10/dist-packages (from gdown>=3.10.1->deepface) (3.15.1)\n",
            "Requirement already satisfied: packaging in /usr/local/lib/python3.10/dist-packages (from gunicorn>=20.1.0->deepface) (24.1)\n",
            "Requirement already satisfied: python-dateutil>=2.8.2 in /usr/local/lib/python3.10/dist-packages (from pandas>=0.23.4->deepface) (2.8.2)\n",
            "Requirement already satisfied: pytz>=2020.1 in /usr/local/lib/python3.10/dist-packages (from pandas>=0.23.4->deepface) (2023.4)\n",
            "Requirement already satisfied: tzdata>=2022.1 in /usr/local/lib/python3.10/dist-packages (from pandas>=0.23.4->deepface) (2024.1)\n",
            "Requirement already satisfied: charset-normalizer<4,>=2 in /usr/local/lib/python3.10/dist-packages (from requests>=2.27.1->deepface) (3.3.2)\n",
            "Requirement already satisfied: idna<4,>=2.5 in /usr/local/lib/python3.10/dist-packages (from requests>=2.27.1->deepface) (3.7)\n",
            "Requirement already satisfied: urllib3<3,>=1.21.1 in /usr/local/lib/python3.10/dist-packages (from requests>=2.27.1->deepface) (2.0.7)\n",
            "Requirement already satisfied: certifi>=2017.4.17 in /usr/local/lib/python3.10/dist-packages (from requests>=2.27.1->deepface) (2024.6.2)\n",
            "Requirement already satisfied: absl-py>=1.0.0 in /usr/local/lib/python3.10/dist-packages (from tensorflow>=1.9.0->deepface) (1.4.0)\n",
            "Requirement already satisfied: astunparse>=1.6.0 in /usr/local/lib/python3.10/dist-packages (from tensorflow>=1.9.0->deepface) (1.6.3)\n",
            "Requirement already satisfied: flatbuffers>=23.5.26 in /usr/local/lib/python3.10/dist-packages (from tensorflow>=1.9.0->deepface) (24.3.25)\n",
            "Requirement already satisfied: gast!=0.5.0,!=0.5.1,!=0.5.2,>=0.2.1 in /usr/local/lib/python3.10/dist-packages (from tensorflow>=1.9.0->deepface) (0.5.4)\n",
            "Requirement already satisfied: google-pasta>=0.1.1 in /usr/local/lib/python3.10/dist-packages (from tensorflow>=1.9.0->deepface) (0.2.0)\n",
            "Requirement already satisfied: h5py>=2.9.0 in /usr/local/lib/python3.10/dist-packages (from tensorflow>=1.9.0->deepface) (3.9.0)\n",
            "Requirement already satisfied: libclang>=13.0.0 in /usr/local/lib/python3.10/dist-packages (from tensorflow>=1.9.0->deepface) (18.1.1)\n",
            "Requirement already satisfied: ml-dtypes~=0.2.0 in /usr/local/lib/python3.10/dist-packages (from tensorflow>=1.9.0->deepface) (0.2.0)\n",
            "Requirement already satisfied: opt-einsum>=2.3.2 in /usr/local/lib/python3.10/dist-packages (from tensorflow>=1.9.0->deepface) (3.3.0)\n",
            "Requirement already satisfied: protobuf!=4.21.0,!=4.21.1,!=4.21.2,!=4.21.3,!=4.21.4,!=4.21.5,<5.0.0dev,>=3.20.3 in /usr/local/lib/python3.10/dist-packages (from tensorflow>=1.9.0->deepface) (3.20.3)\n",
            "Requirement already satisfied: setuptools in /usr/local/lib/python3.10/dist-packages (from tensorflow>=1.9.0->deepface) (67.7.2)\n",
            "Requirement already satisfied: typing-extensions>=3.6.6 in /usr/local/lib/python3.10/dist-packages (from tensorflow>=1.9.0->deepface) (4.12.2)\n",
            "Requirement already satisfied: wrapt<1.15,>=1.11.0 in /usr/local/lib/python3.10/dist-packages (from tensorflow>=1.9.0->deepface) (1.14.1)\n",
            "Requirement already satisfied: tensorflow-io-gcs-filesystem>=0.23.1 in /usr/local/lib/python3.10/dist-packages (from tensorflow>=1.9.0->deepface) (0.37.0)\n",
            "Requirement already satisfied: grpcio<2.0,>=1.24.3 in /usr/local/lib/python3.10/dist-packages (from tensorflow>=1.9.0->deepface) (1.64.1)\n",
            "Requirement already satisfied: tensorboard<2.16,>=2.15 in /usr/local/lib/python3.10/dist-packages (from tensorflow>=1.9.0->deepface) (2.15.2)\n",
            "Requirement already satisfied: tensorflow-estimator<2.16,>=2.15.0 in /usr/local/lib/python3.10/dist-packages (from tensorflow>=1.9.0->deepface) (2.15.0)\n",
            "Requirement already satisfied: wheel<1.0,>=0.23.0 in /usr/local/lib/python3.10/dist-packages (from astunparse>=1.6.0->tensorflow>=1.9.0->deepface) (0.43.0)\n",
            "Requirement already satisfied: MarkupSafe>=2.0 in /usr/local/lib/python3.10/dist-packages (from Jinja2>=3.0->Flask>=1.1.2->deepface) (2.1.5)\n",
            "Requirement already satisfied: google-auth<3,>=1.6.3 in /usr/local/lib/python3.10/dist-packages (from tensorboard<2.16,>=2.15->tensorflow>=1.9.0->deepface) (2.27.0)\n",
            "Requirement already satisfied: google-auth-oauthlib<2,>=0.5 in /usr/local/lib/python3.10/dist-packages (from tensorboard<2.16,>=2.15->tensorflow>=1.9.0->deepface) (1.2.0)\n",
            "Requirement already satisfied: markdown>=2.6.8 in /usr/local/lib/python3.10/dist-packages (from tensorboard<2.16,>=2.15->tensorflow>=1.9.0->deepface) (3.6)\n",
            "Requirement already satisfied: tensorboard-data-server<0.8.0,>=0.7.0 in /usr/local/lib/python3.10/dist-packages (from tensorboard<2.16,>=2.15->tensorflow>=1.9.0->deepface) (0.7.2)\n",
            "Requirement already satisfied: soupsieve>1.2 in /usr/local/lib/python3.10/dist-packages (from beautifulsoup4->gdown>=3.10.1->deepface) (2.5)\n",
            "Requirement already satisfied: PySocks!=1.5.7,>=1.5.6 in /usr/local/lib/python3.10/dist-packages (from requests>=2.27.1->deepface) (1.7.1)\n",
            "Requirement already satisfied: cachetools<6.0,>=2.0.0 in /usr/local/lib/python3.10/dist-packages (from google-auth<3,>=1.6.3->tensorboard<2.16,>=2.15->tensorflow>=1.9.0->deepface) (5.3.3)\n",
            "Requirement already satisfied: pyasn1-modules>=0.2.1 in /usr/local/lib/python3.10/dist-packages (from google-auth<3,>=1.6.3->tensorboard<2.16,>=2.15->tensorflow>=1.9.0->deepface) (0.4.0)\n",
            "Requirement already satisfied: rsa<5,>=3.1.4 in /usr/local/lib/python3.10/dist-packages (from google-auth<3,>=1.6.3->tensorboard<2.16,>=2.15->tensorflow>=1.9.0->deepface) (4.9)\n",
            "Requirement already satisfied: requests-oauthlib>=0.7.0 in /usr/local/lib/python3.10/dist-packages (from google-auth-oauthlib<2,>=0.5->tensorboard<2.16,>=2.15->tensorflow>=1.9.0->deepface) (1.3.1)\n",
            "Requirement already satisfied: pyasn1<0.7.0,>=0.4.6 in /usr/local/lib/python3.10/dist-packages (from pyasn1-modules>=0.2.1->google-auth<3,>=1.6.3->tensorboard<2.16,>=2.15->tensorflow>=1.9.0->deepface) (0.6.0)\n",
            "Requirement already satisfied: oauthlib>=3.0.0 in /usr/local/lib/python3.10/dist-packages (from requests-oauthlib>=0.7.0->google-auth-oauthlib<2,>=0.5->tensorboard<2.16,>=2.15->tensorflow>=1.9.0->deepface) (3.2.2)\n",
            "Building wheels for collected packages: fire\n",
            "  Building wheel for fire (setup.py) ... \u001b[?25l\u001b[?25hdone\n",
            "  Created wheel for fire: filename=fire-0.6.0-py2.py3-none-any.whl size=117029 sha256=8f319f01dbe882c0b068ff2973ae4941413efd2fd985fb26714e8759dd535407\n",
            "  Stored in directory: /root/.cache/pip/wheels/d6/6d/5d/5b73fa0f46d01a793713f8859201361e9e581ced8c75e5c6a3\n",
            "Successfully built fire\n",
            "Installing collected packages: gunicorn, fire, mtcnn, retina-face, deepface\n",
            "Successfully installed deepface-0.0.92 fire-0.6.0 gunicorn-22.0.0 mtcnn-0.1.1 retina-face-0.0.17\n"
          ]
        }
      ],
      "source": [
        "!pip install deepface"
      ]
    },
    {
      "cell_type": "code",
      "source": [
        "from google.colab import drive\n",
        "drive.mount('/content/drive')"
      ],
      "metadata": {
        "colab": {
          "base_uri": "https://localhost:8080/"
        },
        "id": "keUBd_LnusOE",
        "outputId": "d6b13635-5059-440d-cf30-9afaf21c8979"
      },
      "execution_count": 1,
      "outputs": [
        {
          "output_type": "stream",
          "name": "stdout",
          "text": [
            "Mounted at /content/drive\n"
          ]
        }
      ]
    },
    {
      "cell_type": "code",
      "execution_count": null,
      "metadata": {
        "colab": {
          "base_uri": "https://localhost:8080/"
        },
        "id": "Wbb3B569OwvH",
        "outputId": "b92a9166-8dbe-4d7e-88c6-b6c9dee310ca"
      },
      "outputs": [
        {
          "name": "stdout",
          "output_type": "stream",
          "text": [
            "24-06-21 14:38:04 - Directory /root/.deepface created\n",
            "24-06-21 14:38:04 - Directory /root/.deepface/weights created\n"
          ]
        }
      ],
      "source": [
        "import os\n",
        "import cv2\n",
        "import numpy as np\n",
        "from matplotlib import pyplot as plt\n",
        "from deepface import DeepFace"
      ]
    },
    {
      "cell_type": "code",
      "execution_count": null,
      "metadata": {
        "colab": {
          "base_uri": "https://localhost:8080/"
        },
        "id": "B-Pc3cTtO8E1",
        "outputId": "12d9af5c-c058-418b-d2f5-f3fecfe7b2d6"
      },
      "outputs": [
        {
          "output_type": "stream",
          "name": "stdout",
          "text": [
            "Done\n",
            "['.config', 'Training Images-20240623T213230Z-001.zip', 'drive', 'Training Images', 'sample_data']\n"
          ]
        }
      ],
      "source": [
        "import zipfile\n",
        "import os\n",
        "\n",
        "# Path to the uploaded zip file\n",
        "zip_file_path = '/content/Training Images-20240623T213230Z-001.zip'\n",
        "#extract_path = 'path/to/extracted/dataset/'\n",
        "# Unzip the file\n",
        "with zipfile.ZipFile(zip_file_path,'r') as zip:\n",
        "  zip.extractall()\n",
        "  print('Done')\n",
        "#with zipfile(zip_file_path, 'r') as zip_ref:\n",
        "    #zip_ref.extractall()\n",
        "\n",
        "# List the directories to check the structure\n",
        "extracted_dirs = os.listdir()\n",
        "print(extracted_dirs)"
      ]
    },
    {
      "cell_type": "code",
      "execution_count": null,
      "metadata": {
        "id": "MbdhiVHFPcAY"
      },
      "outputs": [],
      "source": [
        "import cv2\n",
        "import numpy as np\n",
        "\n",
        "def preprocess_image_for_facenet(image):\n",
        "    \"\"\"\n",
        "    Preprocess the given image for the FaceNet model.\n",
        "\n",
        "    Parameters:\n",
        "    image (numpy.ndarray): Input image to be preprocessed.\n",
        "\n",
        "    Returns:\n",
        "    numpy.ndarray: Preprocessed image or None if the input is invalid.\n",
        "    \"\"\"\n",
        "    if image is None or image.size == 0:\n",
        "        return None\n",
        "\n",
        "    # Resize image to 160x160 as expected by the FaceNet model\n",
        "    resized_image = cv2.resize(image, (160, 160))\n",
        "\n",
        "    # Normalize pixel values to the range [-1, 1]\n",
        "    normalized_image = (resized_image - 127.5) / 127.5\n",
        "\n",
        "    return normalized_image\n"
      ]
    },
    {
      "cell_type": "code",
      "execution_count": null,
      "metadata": {
        "id": "FPi3Dop2QEzk"
      },
      "outputs": [],
      "source": [
        "import os\n",
        "import cv2\n",
        "import numpy as np\n",
        "\n",
        "def load_images_from_directory(directory):\n",
        "    images = []\n",
        "    labels = []\n",
        "    for filename in os.listdir(directory):\n",
        "        if filename.endswith(\".jpg\") or filename.endswith(\".png\"):\n",
        "            img_path = os.path.join(directory, filename)\n",
        "            try:\n",
        "                with Image.open(img_path) as img:\n",
        "                    img = img.resize((128, 128))  # Resize the image to a fixed size (optional)\n",
        "                    img_array = np.array(img)\n",
        "                    images.append(img_array)\n",
        "                    # Assuming labels are part of the filename, e.g., 'cat.1.jpg'\n",
        "                    label = filename.split('.')[0]\n",
        "                    labels.append(label)\n",
        "            except Exception as e:\n",
        "                print(f\"Error loading image {img_path}: {e}\")\n",
        "    return np.array(images), np.array(labels)\n",
        "\n",
        "\n"
      ]
    },
    {
      "cell_type": "code",
      "execution_count": null,
      "metadata": {
        "id": "ey0AKGAERcoJ"
      },
      "outputs": [],
      "source": [
        "def get_face_embedding(image):\n",
        "    if image is not None:\n",
        "        temp_image_path = 'temp_image.jpg'\n",
        "        cv2.imwrite(temp_image_path, (image * 127.5 + 127.5).astype(np.uint8))  # Convert back to original pixel range\n",
        "        embedding = DeepFace.represent(img_path=temp_image_path, model_name=\"Facenet\", enforce_detection=False)[0][\"embedding\"]\n",
        "        os.remove(temp_image_path)\n",
        "        return embedding\n",
        "    else:\n",
        "        return None\n",
        "\n",
        "def recognize_face(test_embedding, known_face_encodings, known_face_names):\n",
        "    distances = [np.linalg.norm(test_embedding - known_face_encoding) for known_face_encoding in known_face_encodings]\n",
        "    best_match_index = np.argmin(distances)\n",
        "    if distances[best_match_index] < 0.6:\n",
        "        return known_face_names[best_match_index]\n",
        "    else:\n",
        "        return \"Unknown\"\n",
        "\n",
        "def monofacetest(test_directory, known_face_encodings, known_face_names):\n",
        "    for filename in os.listdir(test_directory):\n",
        "        test_image_path = os.path.join(test_directory, filename)\n",
        "        test_image = cv2.imread(test_image_path)\n",
        "        test_image_preprocessed = preprocess_image_for_facenet(test_image)\n",
        "        if test_image_preprocessed is not None:\n",
        "            test_embedding = get_face_embedding(test_image_preprocessed)\n",
        "            if test_embedding is not None:\n",
        "                name = recognize_face(test_embedding, known_face_encodings, known_face_names)\n",
        "                plt.imshow(cv2.cvtColor(test_image, cv2.COLOR_BGR2RGB))\n",
        "                plt.title(f\"Person name: {name}\")\n",
        "                plt.axis('off')\n",
        "                plt.show()\n"
      ]
    },
    {
      "cell_type": "code",
      "execution_count": null,
      "metadata": {
        "id": "SE_IGHAWVym2"
      },
      "outputs": [],
      "source": [
        "def draw_faces_on_image(image, faces, known_face_encodings, known_face_names):\n",
        "    plt.imshow(cv2.cvtColor(image, cv2.COLOR_BGR2RGB))\n",
        "    ax = plt.gca()\n",
        "\n",
        "    for face in faces:\n",
        "        facial_area = face['facial_area']\n",
        "        x, y, w, h = facial_area['x'], facial_area['y'], facial_area['w'], facial_area['h']\n",
        "        face_image = image[y:y+h, x:x+w]\n",
        "        face_preprocessed = preprocess_image_for_facenet(face_image)\n",
        "\n",
        "        if face_preprocessed is not None:\n",
        "            face_embedding = get_face_embedding(face_preprocessed)\n",
        "            if face_embedding is not None:\n",
        "                name = recognize_face(face_embedding, known_face_encodings, known_face_names)\n",
        "                ax.add_patch(plt.Rectangle((x, y), w, h, edgecolor='red', facecolor='none', linewidth=2))\n",
        "                plt.text(x, y - 10, name, color='red', fontsize=12, weight='bold')\n",
        "\n",
        "    plt.axis('off')\n",
        "    plt.show()\n",
        "\n",
        "def multifacetest(test_directory, known_face_encodings, known_face_names):\n",
        "    for filename in os.listdir(test_directory):\n",
        "        test_image_path = os.path.join(test_directory, filename)\n",
        "        test_image = cv2.imread(test_image_path)\n",
        "\n",
        "        faces = DeepFace.extract_faces(img_path=test_image_path, detector_backend='opencv', enforce_detection=False)\n",
        "        draw_faces_on_image(test_image, faces, known_face_encodings, known_face_names)\n"
      ]
    },
    {
      "cell_type": "code",
      "execution_count": 3,
      "metadata": {
        "id": "YxPF35ncYQ8-",
        "colab": {
          "base_uri": "https://localhost:8080/",
          "height": 176
        },
        "outputId": "76c13ddb-c109-45c6-8aaf-455f650d2bbe"
      },
      "outputs": [
        {
          "output_type": "error",
          "ename": "NameError",
          "evalue": "name 'load_images_from_directory' is not defined",
          "traceback": [
            "\u001b[0;31m---------------------------------------------------------------------------\u001b[0m",
            "\u001b[0;31mNameError\u001b[0m                                 Traceback (most recent call last)",
            "\u001b[0;32m<ipython-input-3-a683dea7e043>\u001b[0m in \u001b[0;36m<cell line: 3>\u001b[0;34m()\u001b[0m\n\u001b[1;32m      1\u001b[0m \u001b[0;31m# Load training images\u001b[0m\u001b[0;34m\u001b[0m\u001b[0;34m\u001b[0m\u001b[0m\n\u001b[1;32m      2\u001b[0m \u001b[0mtraining_dir\u001b[0m \u001b[0;34m=\u001b[0m \u001b[0;34mr'/content/drive/MyDrive/Directory /Training Images'\u001b[0m\u001b[0;34m\u001b[0m\u001b[0;34m\u001b[0m\u001b[0m\n\u001b[0;32m----> 3\u001b[0;31m \u001b[0mtrain_images\u001b[0m\u001b[0;34m,\u001b[0m \u001b[0mtrain_labels\u001b[0m \u001b[0;34m=\u001b[0m \u001b[0mload_images_from_directory\u001b[0m\u001b[0;34m(\u001b[0m\u001b[0mtraining_dir\u001b[0m\u001b[0;34m)\u001b[0m\u001b[0;34m\u001b[0m\u001b[0;34m\u001b[0m\u001b[0m\n\u001b[0m",
            "\u001b[0;31mNameError\u001b[0m: name 'load_images_from_directory' is not defined"
          ]
        }
      ],
      "source": [
        "# Load training images\n",
        "training_dir = r'/content/drive/MyDrive/Directory /Training Images'\n",
        "train_images, train_labels = load_images_from_directory(training_dir)"
      ]
    },
    {
      "cell_type": "code",
      "source": [
        "!pip install face_recognition opencv-python"
      ],
      "metadata": {
        "colab": {
          "base_uri": "https://localhost:8080/"
        },
        "id": "rIf3W3JB0r-W",
        "outputId": "87472faa-b165-46af-c016-67a0d59ea4e4"
      },
      "execution_count": null,
      "outputs": [
        {
          "output_type": "stream",
          "name": "stdout",
          "text": [
            "Collecting face_recognition\n",
            "  Downloading face_recognition-1.3.0-py2.py3-none-any.whl (15 kB)\n",
            "Requirement already satisfied: opencv-python in /usr/local/lib/python3.10/dist-packages (4.8.0.76)\n",
            "Collecting face-recognition-models>=0.3.0 (from face_recognition)\n",
            "  Downloading face_recognition_models-0.3.0.tar.gz (100.1 MB)\n",
            "\u001b[2K     \u001b[90m━━━━━━━━━━━━━━━━━━━━━━━━━━━━━━━━━━━━━━━━\u001b[0m \u001b[32m100.1/100.1 MB\u001b[0m \u001b[31m2.4 MB/s\u001b[0m eta \u001b[36m0:00:00\u001b[0m\n",
            "\u001b[?25h  Preparing metadata (setup.py) ... \u001b[?25l\u001b[?25hdone\n",
            "Requirement already satisfied: Click>=6.0 in /usr/local/lib/python3.10/dist-packages (from face_recognition) (8.1.7)\n",
            "Requirement already satisfied: dlib>=19.7 in /usr/local/lib/python3.10/dist-packages (from face_recognition) (19.24.4)\n",
            "Requirement already satisfied: numpy in /usr/local/lib/python3.10/dist-packages (from face_recognition) (1.25.2)\n",
            "Requirement already satisfied: Pillow in /usr/local/lib/python3.10/dist-packages (from face_recognition) (9.4.0)\n",
            "Building wheels for collected packages: face-recognition-models\n",
            "  Building wheel for face-recognition-models (setup.py) ... \u001b[?25l\u001b[?25hdone\n",
            "  Created wheel for face-recognition-models: filename=face_recognition_models-0.3.0-py2.py3-none-any.whl size=100566170 sha256=0765b0f6a53fae06c3c624cfce67fdeb42a2d349ed154a81089e6ecc0478d67e\n",
            "  Stored in directory: /root/.cache/pip/wheels/7a/eb/cf/e9eced74122b679557f597bb7c8e4c739cfcac526db1fd523d\n",
            "Successfully built face-recognition-models\n",
            "Installing collected packages: face-recognition-models, face_recognition\n",
            "Successfully installed face-recognition-models-0.3.0 face_recognition-1.3.0\n"
          ]
        }
      ]
    },
    {
      "cell_type": "code",
      "source": [
        "!pip uninstall -y dlib face_recognition"
      ],
      "metadata": {
        "colab": {
          "base_uri": "https://localhost:8080/"
        },
        "id": "4J26RpgS6qKP",
        "outputId": "437a7e6f-838a-43c6-8a91-43d40e920255"
      },
      "execution_count": null,
      "outputs": [
        {
          "output_type": "stream",
          "name": "stdout",
          "text": [
            "Found existing installation: dlib 19.22.1\n",
            "Uninstalling dlib-19.22.1:\n",
            "  Successfully uninstalled dlib-19.22.1\n",
            "Found existing installation: face-recognition 1.3.0\n",
            "Uninstalling face-recognition-1.3.0:\n",
            "  Successfully uninstalled face-recognition-1.3.0\n"
          ]
        }
      ]
    },
    {
      "cell_type": "code",
      "source": [
        "!pip install dlib==19.22.1\n",
        "!pip install face_recognition\n",
        "!pip install opencv-python"
      ],
      "metadata": {
        "colab": {
          "base_uri": "https://localhost:8080/"
        },
        "id": "pYCir3tV6uGY",
        "outputId": "fc32a39d-f132-496e-e667-3f3b220483af"
      },
      "execution_count": null,
      "outputs": [
        {
          "output_type": "stream",
          "name": "stdout",
          "text": [
            "Requirement already satisfied: dlib==19.22.1 in /usr/local/lib/python3.10/dist-packages (19.22.1)\n",
            "Requirement already satisfied: face_recognition in /usr/local/lib/python3.10/dist-packages (1.3.0)\n",
            "Requirement already satisfied: face-recognition-models>=0.3.0 in /usr/local/lib/python3.10/dist-packages (from face_recognition) (0.3.0)\n",
            "Requirement already satisfied: Click>=6.0 in /usr/local/lib/python3.10/dist-packages (from face_recognition) (8.1.7)\n",
            "Requirement already satisfied: dlib>=19.7 in /usr/local/lib/python3.10/dist-packages (from face_recognition) (19.22.1)\n",
            "Requirement already satisfied: numpy in /usr/local/lib/python3.10/dist-packages (from face_recognition) (1.25.2)\n",
            "Requirement already satisfied: Pillow in /usr/local/lib/python3.10/dist-packages (from face_recognition) (9.4.0)\n",
            "Requirement already satisfied: opencv-python in /usr/local/lib/python3.10/dist-packages (4.8.0.76)\n",
            "Requirement already satisfied: numpy>=1.21.2 in /usr/local/lib/python3.10/dist-packages (from opencv-python) (1.25.2)\n"
          ]
        }
      ]
    },
    {
      "cell_type": "code",
      "source": [
        "import os\n",
        "import cv2\n",
        "import numpy as np\n",
        "from PIL import Image, ImageDraw\n",
        "\n",
        "def load_image(file_path):\n",
        "    return cv2.imread(file_path)\n",
        "\n",
        "def encode_faces(image, face_locations):\n",
        "    encodings = []\n",
        "    for (top, right, bottom, left) in face_locations:\n",
        "        face = image[top:bottom, left:right]\n",
        "        face = cv2.resize(face, (128, 128))  # Resize to 128x128 for simplicity\n",
        "        encoding = face.flatten()  # Flatten the image array to create a simple encoding\n",
        "        encodings.append(encoding)\n",
        "    return encodings\n",
        "\n",
        "def detect_faces(image):\n",
        "    gray = cv2.cvtColor(image, cv2.COLOR_BGR2GRAY)\n",
        "    face_cascade = cv2.CascadeClassifier(cv2.data.haarcascades + 'haarcascade_frontalface_default.xml')\n",
        "    faces = face_cascade.detectMultiScale(gray, 1.1, 4)\n",
        "    return [(y, x+w, y+h, x) for (x, y, w, h) in faces]"
      ],
      "metadata": {
        "id": "_8dMShZK2Zi5"
      },
      "execution_count": null,
      "outputs": []
    },
    {
      "cell_type": "code",
      "execution_count": 4,
      "metadata": {
        "id": "y-v2QYckZpMI",
        "colab": {
          "base_uri": "https://localhost:8080/"
        },
        "outputId": "81775384-2e8e-4984-9aa0-2427101487f9"
      },
      "outputs": [
        {
          "output_type": "stream",
          "name": "stdout",
          "text": [
            "An error occurred: name 'load_image' is not defined\n"
          ]
        }
      ],
      "source": [
        "def monofacetest(directory, known_face_encodings, known_face_names):\n",
        "    for filename in os.listdir(directory):\n",
        "        if filename.endswith(\".jpg\") or filename.endswith(\".png\"):\n",
        "            img_path = os.path.join(directory, filename)\n",
        "            image = load_image(img_path)\n",
        "            face_locations = detect_faces(image)\n",
        "            face_encodings = encode_faces(image, face_locations)\n",
        "\n",
        "            pil_image = Image.fromarray(cv2.cvtColor(image, cv2.COLOR_BGR2RGB))\n",
        "            draw = ImageDraw.Draw(pil_image)\n",
        "\n",
        "            for (top, right, bottom, left), face_encoding in zip(face_locations, face_encodings):\n",
        "                matches = [np.linalg.norm(known_face_encoding - face_encoding) < 10000 for known_face_encoding in known_face_encodings]  # Simplified matching\n",
        "                name = \"Unknown\"\n",
        "\n",
        "                if True in matches:\n",
        "                    first_match_index = matches.index(True)\n",
        "                    name = known_face_names[first_match_index]\n",
        "\n",
        "                draw.rectangle(((left, top), (right, bottom)), outline=(0, 0, 255))\n",
        "                draw.text((left + 6, bottom - 6), name, fill=(255, 255, 255, 255))\n",
        "\n",
        "            del draw\n",
        "\n",
        "            pil_image.show()\n",
        "\n",
        "# Example usage\n",
        "monoface_detection = r'/content/drive/MyDrive/Directory /Testing Images'\n",
        "\n",
        "# Load known face images and encode them\n",
        "try:\n",
        "    known_image_1 = load_image(\"/path/to/known_person_1.jpg\")\n",
        "    known_face_locations_1 = detect_faces(known_image_1)\n",
        "    known_face_encodings_1 = encode_faces(known_image_1, known_face_locations_1)[0]\n",
        "\n",
        "    known_image_2 = load_image(\"/path/to/known_person_2.jpg\")\n",
        "    known_face_locations_2 = detect_faces(known_image_2)\n",
        "    known_face_encodings_2 = encode_faces(known_image_2, known_face_locations_2)[0]\n",
        "\n",
        "    known_face_encodings = [\n",
        "        known_face_encodings_1,\n",
        "        known_face_encodings_2\n",
        "    ]\n",
        "\n",
        "    known_face_names = [\n",
        "        \"Person 1\",\n",
        "        \"Person 2\"\n",
        "        \"Person 3\"\n",
        "        \"Person 4\"\n",
        "        \"Person 5\"\n",
        "    ]\n",
        "\n",
        "    monofacetest(monoface_detection, known_face_encodings, known_face_names)\n",
        "\n",
        "except FileNotFoundError as e:\n",
        "    print(f\"Error loading image: {e}\")\n",
        "except Exception as e:\n",
        "    print(f\"An error occurred: {e}\")"
      ]
    },
    {
      "cell_type": "code",
      "execution_count": 7,
      "metadata": {
        "colab": {
          "base_uri": "https://localhost:8080/"
        },
        "id": "t2tpBfT0aMGg",
        "outputId": "83983905-097d-433e-e07f-1f63dab2d0d5"
      },
      "outputs": [
        {
          "output_type": "stream",
          "name": "stdout",
          "text": [
            "Collecting deepface\n",
            "  Downloading deepface-0.0.92-py3-none-any.whl (105 kB)\n",
            "\u001b[2K     \u001b[90m━━━━━━━━━━━━━━━━━━━━━━━━━━━━━━━━━━━━━━━━\u001b[0m \u001b[32m105.5/105.5 kB\u001b[0m \u001b[31m3.9 MB/s\u001b[0m eta \u001b[36m0:00:00\u001b[0m\n",
            "\u001b[?25hRequirement already satisfied: requests>=2.27.1 in /usr/local/lib/python3.10/dist-packages (from deepface) (2.31.0)\n",
            "Requirement already satisfied: numpy>=1.14.0 in /usr/local/lib/python3.10/dist-packages (from deepface) (1.25.2)\n",
            "Requirement already satisfied: pandas>=0.23.4 in /usr/local/lib/python3.10/dist-packages (from deepface) (2.0.3)\n",
            "Requirement already satisfied: gdown>=3.10.1 in /usr/local/lib/python3.10/dist-packages (from deepface) (5.1.0)\n",
            "Requirement already satisfied: tqdm>=4.30.0 in /usr/local/lib/python3.10/dist-packages (from deepface) (4.66.4)\n",
            "Requirement already satisfied: Pillow>=5.2.0 in /usr/local/lib/python3.10/dist-packages (from deepface) (9.4.0)\n",
            "Requirement already satisfied: opencv-python>=4.5.5.64 in /usr/local/lib/python3.10/dist-packages (from deepface) (4.8.0.76)\n",
            "Requirement already satisfied: tensorflow>=1.9.0 in /usr/local/lib/python3.10/dist-packages (from deepface) (2.15.0)\n",
            "Requirement already satisfied: keras>=2.2.0 in /usr/local/lib/python3.10/dist-packages (from deepface) (2.15.0)\n",
            "Requirement already satisfied: Flask>=1.1.2 in /usr/local/lib/python3.10/dist-packages (from deepface) (2.2.5)\n",
            "Collecting mtcnn>=0.1.0 (from deepface)\n",
            "  Downloading mtcnn-0.1.1-py3-none-any.whl (2.3 MB)\n",
            "\u001b[2K     \u001b[90m━━━━━━━━━━━━━━━━━━━━━━━━━━━━━━━━━━━━━━━━\u001b[0m \u001b[32m2.3/2.3 MB\u001b[0m \u001b[31m45.6 MB/s\u001b[0m eta \u001b[36m0:00:00\u001b[0m\n",
            "\u001b[?25hCollecting retina-face>=0.0.1 (from deepface)\n",
            "  Downloading retina_face-0.0.17-py3-none-any.whl (25 kB)\n",
            "Collecting fire>=0.4.0 (from deepface)\n",
            "  Downloading fire-0.6.0.tar.gz (88 kB)\n",
            "\u001b[2K     \u001b[90m━━━━━━━━━━━━━━━━━━━━━━━━━━━━━━━━━━━━━━━━\u001b[0m \u001b[32m88.4/88.4 kB\u001b[0m \u001b[31m8.4 MB/s\u001b[0m eta \u001b[36m0:00:00\u001b[0m\n",
            "\u001b[?25h  Preparing metadata (setup.py) ... \u001b[?25l\u001b[?25hdone\n",
            "Collecting gunicorn>=20.1.0 (from deepface)\n",
            "  Downloading gunicorn-22.0.0-py3-none-any.whl (84 kB)\n",
            "\u001b[2K     \u001b[90m━━━━━━━━━━━━━━━━━━━━━━━━━━━━━━━━━━━━━━━━\u001b[0m \u001b[32m84.4/84.4 kB\u001b[0m \u001b[31m9.4 MB/s\u001b[0m eta \u001b[36m0:00:00\u001b[0m\n",
            "\u001b[?25hRequirement already satisfied: six in /usr/local/lib/python3.10/dist-packages (from fire>=0.4.0->deepface) (1.16.0)\n",
            "Requirement already satisfied: termcolor in /usr/local/lib/python3.10/dist-packages (from fire>=0.4.0->deepface) (2.4.0)\n",
            "Requirement already satisfied: Werkzeug>=2.2.2 in /usr/local/lib/python3.10/dist-packages (from Flask>=1.1.2->deepface) (3.0.3)\n",
            "Requirement already satisfied: Jinja2>=3.0 in /usr/local/lib/python3.10/dist-packages (from Flask>=1.1.2->deepface) (3.1.4)\n",
            "Requirement already satisfied: itsdangerous>=2.0 in /usr/local/lib/python3.10/dist-packages (from Flask>=1.1.2->deepface) (2.2.0)\n",
            "Requirement already satisfied: click>=8.0 in /usr/local/lib/python3.10/dist-packages (from Flask>=1.1.2->deepface) (8.1.7)\n",
            "Requirement already satisfied: beautifulsoup4 in /usr/local/lib/python3.10/dist-packages (from gdown>=3.10.1->deepface) (4.12.3)\n",
            "Requirement already satisfied: filelock in /usr/local/lib/python3.10/dist-packages (from gdown>=3.10.1->deepface) (3.15.3)\n",
            "Requirement already satisfied: packaging in /usr/local/lib/python3.10/dist-packages (from gunicorn>=20.1.0->deepface) (24.1)\n",
            "Requirement already satisfied: python-dateutil>=2.8.2 in /usr/local/lib/python3.10/dist-packages (from pandas>=0.23.4->deepface) (2.8.2)\n",
            "Requirement already satisfied: pytz>=2020.1 in /usr/local/lib/python3.10/dist-packages (from pandas>=0.23.4->deepface) (2023.4)\n",
            "Requirement already satisfied: tzdata>=2022.1 in /usr/local/lib/python3.10/dist-packages (from pandas>=0.23.4->deepface) (2024.1)\n",
            "Requirement already satisfied: charset-normalizer<4,>=2 in /usr/local/lib/python3.10/dist-packages (from requests>=2.27.1->deepface) (3.3.2)\n",
            "Requirement already satisfied: idna<4,>=2.5 in /usr/local/lib/python3.10/dist-packages (from requests>=2.27.1->deepface) (3.7)\n",
            "Requirement already satisfied: urllib3<3,>=1.21.1 in /usr/local/lib/python3.10/dist-packages (from requests>=2.27.1->deepface) (2.0.7)\n",
            "Requirement already satisfied: certifi>=2017.4.17 in /usr/local/lib/python3.10/dist-packages (from requests>=2.27.1->deepface) (2024.6.2)\n",
            "Requirement already satisfied: absl-py>=1.0.0 in /usr/local/lib/python3.10/dist-packages (from tensorflow>=1.9.0->deepface) (1.4.0)\n",
            "Requirement already satisfied: astunparse>=1.6.0 in /usr/local/lib/python3.10/dist-packages (from tensorflow>=1.9.0->deepface) (1.6.3)\n",
            "Requirement already satisfied: flatbuffers>=23.5.26 in /usr/local/lib/python3.10/dist-packages (from tensorflow>=1.9.0->deepface) (24.3.25)\n",
            "Requirement already satisfied: gast!=0.5.0,!=0.5.1,!=0.5.2,>=0.2.1 in /usr/local/lib/python3.10/dist-packages (from tensorflow>=1.9.0->deepface) (0.5.4)\n",
            "Requirement already satisfied: google-pasta>=0.1.1 in /usr/local/lib/python3.10/dist-packages (from tensorflow>=1.9.0->deepface) (0.2.0)\n",
            "Requirement already satisfied: h5py>=2.9.0 in /usr/local/lib/python3.10/dist-packages (from tensorflow>=1.9.0->deepface) (3.9.0)\n",
            "Requirement already satisfied: libclang>=13.0.0 in /usr/local/lib/python3.10/dist-packages (from tensorflow>=1.9.0->deepface) (18.1.1)\n",
            "Requirement already satisfied: ml-dtypes~=0.2.0 in /usr/local/lib/python3.10/dist-packages (from tensorflow>=1.9.0->deepface) (0.2.0)\n",
            "Requirement already satisfied: opt-einsum>=2.3.2 in /usr/local/lib/python3.10/dist-packages (from tensorflow>=1.9.0->deepface) (3.3.0)\n",
            "Requirement already satisfied: protobuf!=4.21.0,!=4.21.1,!=4.21.2,!=4.21.3,!=4.21.4,!=4.21.5,<5.0.0dev,>=3.20.3 in /usr/local/lib/python3.10/dist-packages (from tensorflow>=1.9.0->deepface) (3.20.3)\n",
            "Requirement already satisfied: setuptools in /usr/local/lib/python3.10/dist-packages (from tensorflow>=1.9.0->deepface) (67.7.2)\n",
            "Requirement already satisfied: typing-extensions>=3.6.6 in /usr/local/lib/python3.10/dist-packages (from tensorflow>=1.9.0->deepface) (4.12.2)\n",
            "Requirement already satisfied: wrapt<1.15,>=1.11.0 in /usr/local/lib/python3.10/dist-packages (from tensorflow>=1.9.0->deepface) (1.14.1)\n",
            "Requirement already satisfied: tensorflow-io-gcs-filesystem>=0.23.1 in /usr/local/lib/python3.10/dist-packages (from tensorflow>=1.9.0->deepface) (0.37.0)\n",
            "Requirement already satisfied: grpcio<2.0,>=1.24.3 in /usr/local/lib/python3.10/dist-packages (from tensorflow>=1.9.0->deepface) (1.64.1)\n",
            "Requirement already satisfied: tensorboard<2.16,>=2.15 in /usr/local/lib/python3.10/dist-packages (from tensorflow>=1.9.0->deepface) (2.15.2)\n",
            "Requirement already satisfied: tensorflow-estimator<2.16,>=2.15.0 in /usr/local/lib/python3.10/dist-packages (from tensorflow>=1.9.0->deepface) (2.15.0)\n",
            "Requirement already satisfied: wheel<1.0,>=0.23.0 in /usr/local/lib/python3.10/dist-packages (from astunparse>=1.6.0->tensorflow>=1.9.0->deepface) (0.43.0)\n",
            "Requirement already satisfied: MarkupSafe>=2.0 in /usr/local/lib/python3.10/dist-packages (from Jinja2>=3.0->Flask>=1.1.2->deepface) (2.1.5)\n",
            "Requirement already satisfied: google-auth<3,>=1.6.3 in /usr/local/lib/python3.10/dist-packages (from tensorboard<2.16,>=2.15->tensorflow>=1.9.0->deepface) (2.27.0)\n",
            "Requirement already satisfied: google-auth-oauthlib<2,>=0.5 in /usr/local/lib/python3.10/dist-packages (from tensorboard<2.16,>=2.15->tensorflow>=1.9.0->deepface) (1.2.0)\n",
            "Requirement already satisfied: markdown>=2.6.8 in /usr/local/lib/python3.10/dist-packages (from tensorboard<2.16,>=2.15->tensorflow>=1.9.0->deepface) (3.6)\n",
            "Requirement already satisfied: tensorboard-data-server<0.8.0,>=0.7.0 in /usr/local/lib/python3.10/dist-packages (from tensorboard<2.16,>=2.15->tensorflow>=1.9.0->deepface) (0.7.2)\n",
            "Requirement already satisfied: soupsieve>1.2 in /usr/local/lib/python3.10/dist-packages (from beautifulsoup4->gdown>=3.10.1->deepface) (2.5)\n",
            "Requirement already satisfied: PySocks!=1.5.7,>=1.5.6 in /usr/local/lib/python3.10/dist-packages (from requests>=2.27.1->deepface) (1.7.1)\n",
            "Requirement already satisfied: cachetools<6.0,>=2.0.0 in /usr/local/lib/python3.10/dist-packages (from google-auth<3,>=1.6.3->tensorboard<2.16,>=2.15->tensorflow>=1.9.0->deepface) (5.3.3)\n",
            "Requirement already satisfied: pyasn1-modules>=0.2.1 in /usr/local/lib/python3.10/dist-packages (from google-auth<3,>=1.6.3->tensorboard<2.16,>=2.15->tensorflow>=1.9.0->deepface) (0.4.0)\n",
            "Requirement already satisfied: rsa<5,>=3.1.4 in /usr/local/lib/python3.10/dist-packages (from google-auth<3,>=1.6.3->tensorboard<2.16,>=2.15->tensorflow>=1.9.0->deepface) (4.9)\n",
            "Requirement already satisfied: requests-oauthlib>=0.7.0 in /usr/local/lib/python3.10/dist-packages (from google-auth-oauthlib<2,>=0.5->tensorboard<2.16,>=2.15->tensorflow>=1.9.0->deepface) (1.3.1)\n",
            "Requirement already satisfied: pyasn1<0.7.0,>=0.4.6 in /usr/local/lib/python3.10/dist-packages (from pyasn1-modules>=0.2.1->google-auth<3,>=1.6.3->tensorboard<2.16,>=2.15->tensorflow>=1.9.0->deepface) (0.6.0)\n",
            "Requirement already satisfied: oauthlib>=3.0.0 in /usr/local/lib/python3.10/dist-packages (from requests-oauthlib>=0.7.0->google-auth-oauthlib<2,>=0.5->tensorboard<2.16,>=2.15->tensorflow>=1.9.0->deepface) (3.2.2)\n",
            "Building wheels for collected packages: fire\n",
            "  Building wheel for fire (setup.py) ... \u001b[?25l\u001b[?25hdone\n",
            "  Created wheel for fire: filename=fire-0.6.0-py2.py3-none-any.whl size=117029 sha256=2a36bcb4d760f654985edb7058f235707fcd7e3d722b59de423d5f7789dc1b8a\n",
            "  Stored in directory: /root/.cache/pip/wheels/d6/6d/5d/5b73fa0f46d01a793713f8859201361e9e581ced8c75e5c6a3\n",
            "Successfully built fire\n",
            "Installing collected packages: gunicorn, fire, mtcnn, retina-face, deepface\n",
            "Successfully installed deepface-0.0.92 fire-0.6.0 gunicorn-22.0.0 mtcnn-0.1.1 retina-face-0.0.17\n"
          ]
        }
      ],
      "source": [
        "pip install deepface"
      ]
    },
    {
      "cell_type": "code",
      "source": [
        "import os\n",
        "import cv2\n",
        "from deepface import DeepFace\n",
        "\n",
        "# Load known faces and their names\n",
        "known_faces = {\n",
        "\"Tannishtha Roy Chowdhury\": \"/content/drive/MyDrive/Directory /Training Images/Tannishtha Roy Chowdhury /IMG_6218.JPG\",\n",
        "    \"Shreya Singha Roy\": \"/content/drive/MyDrive/Directory /Training Images/Shreya Singha Roy /27124ff3-912a-44b5-b5cd-68a6a6a0f426.jpg\",\n",
        "    \"Debarati Sarkar\": \"/content/drive/MyDrive/Directory /Training Images/Debarati Sarkar/20626469-8538-4e6e-93d0-48e48764ab71.jpg\",\n",
        "                \"Aishi Sarkar\": \"/content/drive/MyDrive/Directory /Training Images/Aishi Sarkar/IMG-20240604-WA0046.jpg\",\n",
        "                \"Om Sarkar\": \"/content/drive/MyDrive/Directory /Training Images/Om Sarkar/Img-20240604-WA0035.jpg\",\n",
        "                }\n",
        "\n",
        "def multifacetest(image_directory, known_faces):\n",
        "    for image_name in os.listdir(image_directory):\n",
        "        image_path = os.path.join(image_directory, image_name)\n",
        "\n",
        "        if not os.path.isfile(image_path):\n",
        "            print(f\"Error loading {image_name}: File does not exist\")\n",
        "            continue\n",
        "\n",
        "        try:\n",
        "            # Detect and analyze faces for emotions\n",
        "            results = DeepFace.analyze(img_path=image_path, actions=['emotion'], enforce_detection=False)\n",
        "\n",
        "            if not results:\n",
        "                print(f\"No faces found in {image_name}\")\n",
        "                continue\n",
        "\n",
        "            # Extract faces from results\n",
        "            face_results = results if isinstance(results, list) else [results]\n",
        "\n",
        "            for face_result in face_results:\n",
        "                found_match = False\n",
        "                dominant_emotion = face_result.get('dominant_emotion', 'Unknown')\n",
        "\n",
        "                for name, known_image_path in known_faces.items():\n",
        "                    if not os.path.isfile(known_image_path):\n",
        "                        print(f\"Known image path for {name} does not exist: {known_image_path}\")\n",
        "                        continue\n",
        "\n",
        "                    # Verify the detected face against the known face\n",
        "                    result = DeepFace.verify(img1_path=image_path, img2_path=known_image_path, enforce_detection=False)\n",
        "                    if result[\"verified\"]:\n",
        "                        print(f\"Detected {name} in {image_name} with emotion: {dominant_emotion}\")\n",
        "                        found_match = True\n",
        "                        break\n",
        "\n",
        "                if not found_match:\n",
        "                    print(f\"No matches found for a face in {image_name}, but detected emotion: {dominant_emotion}\")\n",
        "\n",
        "        except Exception as e:\n",
        "            print(f\"Error processing {image_name}: {str(e)}\")\n"
      ],
      "metadata": {
        "id": "4OOy6nr7lR-V"
      },
      "execution_count": 1,
      "outputs": []
    },
    {
      "cell_type": "code",
      "source": [
        "# Directory containing the test images\n",
        "monoface_detection = r'/content/drive/MyDrive/Directory /Testing Images'\n",
        "multifacetest(monoface_detection, known_faces)"
      ],
      "metadata": {
        "colab": {
          "base_uri": "https://localhost:8080/"
        },
        "id": "gN-YWvVIqmGh",
        "outputId": "58faec36-aa5f-46ec-d107-9d2a1ebaa5a2"
      },
      "execution_count": 2,
      "outputs": [
        {
          "output_type": "stream",
          "name": "stdout",
          "text": [
            "Detected Debarati Sarkar in 0e82c9f5-be0d-440a-a004-79680eaa8dac.jpg with emotion: happy\n",
            "Detected Debarati Sarkar in 0e82c9f5-be0d-440a-a004-79680eaa8dac.jpg with emotion: happy\n",
            "Detected Debarati Sarkar in b22eb268-5485-4e3c-92f5-6f3a12d7a0fe.jpg with emotion: happy\n",
            "Detected Debarati Sarkar in b22eb268-5485-4e3c-92f5-6f3a12d7a0fe.jpg with emotion: neutral\n",
            "Detected Debarati Sarkar in b22eb268-5485-4e3c-92f5-6f3a12d7a0fe.jpg with emotion: surprise\n",
            "Detected Debarati Sarkar in 9c36b6c5-8fa5-4b87-a517-244e9dc344ef.jpg with emotion: happy\n",
            "Detected Debarati Sarkar in 9c36b6c5-8fa5-4b87-a517-244e9dc344ef.jpg with emotion: happy\n",
            "Detected Debarati Sarkar in 4611d3ef-16cf-40f8-93c6-cc78dd70720e.jpg with emotion: happy\n",
            "Detected Debarati Sarkar in 4611d3ef-16cf-40f8-93c6-cc78dd70720e.jpg with emotion: happy\n",
            "Detected Debarati Sarkar in 4611d3ef-16cf-40f8-93c6-cc78dd70720e.jpg with emotion: fear\n",
            "Detected Tannishtha Roy Chowdhury in 1000221691.webp with emotion: happy\n",
            "Detected Tannishtha Roy Chowdhury in 1000221691.webp with emotion: happy\n",
            "Detected Tannishtha Roy Chowdhury in 1000221691.webp with emotion: fear\n",
            "No matches found for a face in IMG_20230311_133422_151_Original.JPG, but detected emotion: fear\n",
            "No matches found for a face in IMG_20230311_100830_258_Original.JPG, but detected emotion: sad\n",
            "Detected Shreya Singha Roy in 1000243414.jpg with emotion: happy\n",
            "Detected Shreya Singha Roy in 1000243414.jpg with emotion: sad\n",
            "Detected Tannishtha Roy Chowdhury in 1000240110.jpg with emotion: happy\n",
            "Detected Tannishtha Roy Chowdhury in 1000240110.jpg with emotion: happy\n",
            "Detected Tannishtha Roy Chowdhury in 1000204691.jpg with emotion: happy\n",
            "Detected Tannishtha Roy Chowdhury in 1000204691.jpg with emotion: happy\n",
            "Detected Tannishtha Roy Chowdhury in IMG_1916.JPG with emotion: happy\n",
            "Detected Tannishtha Roy Chowdhury in IMG_1916.JPG with emotion: happy\n",
            "Detected Debarati Sarkar in 1000226089.jpg with emotion: happy\n",
            "Detected Debarati Sarkar in 1000226089.jpg with emotion: neutral\n",
            "Detected Debarati Sarkar in 1000226089.jpg with emotion: happy\n",
            "Detected Tannishtha Roy Chowdhury in IMG_3251.JPG with emotion: neutral\n",
            "Detected Tannishtha Roy Chowdhury in IMG_3251.JPG with emotion: happy\n",
            "Detected Tannishtha Roy Chowdhury in IMG_3251.JPG with emotion: happy\n",
            "Detected Tannishtha Roy Chowdhury in IMG_3251.JPG with emotion: happy\n",
            "Detected Tannishtha Roy Chowdhury in IMG_3251.JPG with emotion: happy\n",
            "Detected Tannishtha Roy Chowdhury in IMG_3251.JPG with emotion: neutral\n",
            "Detected Tannishtha Roy Chowdhury in IMG_1839.JPG with emotion: happy\n",
            "Detected Tannishtha Roy Chowdhury in IMG_1839.JPG with emotion: sad\n",
            "Detected Tannishtha Roy Chowdhury in IMG_1839.JPG with emotion: sad\n",
            "Detected Tannishtha Roy Chowdhury in IMG_5741.JPG with emotion: happy\n",
            "Detected Tannishtha Roy Chowdhury in IMG_5741.JPG with emotion: neutral\n",
            "Detected Tannishtha Roy Chowdhury in IMG_6074.JPG with emotion: happy\n",
            "Detected Tannishtha Roy Chowdhury in IMG_6074.JPG with emotion: happy\n",
            "Detected Tannishtha Roy Chowdhury in IMG_6074.JPG with emotion: neutral\n",
            "Detected Tannishtha Roy Chowdhury in IMG_6073.JPG with emotion: happy\n",
            "Detected Tannishtha Roy Chowdhury in IMG_6073.JPG with emotion: happy\n",
            "Detected Tannishtha Roy Chowdhury in IMG_6073.JPG with emotion: fear\n",
            "Detected Tannishtha Roy Chowdhury in IMG_20230311_190326_Original.JPG with emotion: happy\n",
            "Detected Tannishtha Roy Chowdhury in IMG_20230311_190326_Original.JPG with emotion: happy\n",
            "Detected Tannishtha Roy Chowdhury in IMG_20230311_190326_Original.JPG with emotion: happy\n",
            "Detected Tannishtha Roy Chowdhury in IMG_20230311_190326_Original.JPG with emotion: sad\n",
            "Detected Tannishtha Roy Chowdhury in 1000239927.jpg with emotion: happy\n",
            "Detected Tannishtha Roy Chowdhury in 1000239927.jpg with emotion: neutral\n",
            "Detected Tannishtha Roy Chowdhury in 1000239927.jpg with emotion: sad\n",
            "Detected Tannishtha Roy Chowdhury in 1000239927.jpg with emotion: sad\n"
          ]
        }
      ]
    },
    {
      "cell_type": "code",
      "execution_count": 3,
      "metadata": {
        "id": "dntZ5l6fakp8"
      },
      "outputs": [],
      "source": [
        "import os\n",
        "import cv2\n",
        "from deepface import DeepFace\n",
        "\n",
        "# Load known faces and their names\n",
        "known_faces = {\n",
        "    \"Tannishtha Roy Chowdhury\": \"/content/drive/MyDrive/Directory /Training Images/Tannishtha Roy Chowdhury /IMG_6218.JPG\",\n",
        "    \"Shreya Singha Roy\": \"/content/drive/MyDrive/Directory /Training Images/Shreya Singha Roy /27124ff3-912a-44b5-b5cd-68a6a6a0f426.jpg\",\n",
        "    \"Debarati Sarkar\": \"/content/drive/MyDrive/Directory /Training Images/Debarati Sarkar/20626469-8538-4e6e-93d0-48e48764ab71.jpg\",\n",
        "                \"Aishi Sarkar\": \"/content/drive/MyDrive/Directory /Training Images/Aishi Sarkar/IMG-20240604-WA0046.jpg\",\n",
        "                \"Om Sarkar\": \"/content/drive/MyDrive/Directory /Training Images/Om Sarkar/Img-20240604-WA0035.jpg\",\n",
        "                }\n",
        "\n",
        "def multifacetest(image_directory, known_faces):\n",
        "    for image_name in os.listdir(image_directory):\n",
        "        image_path = os.path.join(image_directory, image_name)\n",
        "        image = cv2.imread(image_path)\n",
        "\n",
        "        if image is None:\n",
        "            print(f\"Error loading {image_name}: Invalid image file\")\n",
        "            continue\n",
        "\n",
        "        try:\n",
        "            # Detect and analyze faces for emotions\n",
        "            results = DeepFace.analyze(img_path=image_path, actions=['emotion'], enforce_detection=False)\n",
        "\n",
        "            if not results:\n",
        "                print(f\"No faces found in {image_name}\")\n",
        "                continue\n",
        "\n",
        "            # Extract faces from results\n",
        "            face_results = results if isinstance(results, list) else [results]\n",
        "\n",
        "            for face_result in face_results:\n",
        "                found_match = False\n",
        "                dominant_emotion = face_result['dominant_emotion']\n",
        "\n",
        "                for name, known_image_path in known_faces.items():\n",
        "                    if not os.path.isfile(known_image_path):\n",
        "                        print(f\"Known image path for {name} does not exist: {known_image_path}\")\n",
        "                        continue\n",
        "\n",
        "                    # Verify the detected face against the known face\n",
        "                    result = DeepFace.verify(img1_path=image_path, img2_path=known_image_path, enforce_detection=False)\n",
        "                    if result[\"verified\"]:\n",
        "                        print(f\"Detected {name} in {image_name} with emotion: {dominant_emotion}\")\n",
        "                        found_match = True\n",
        "                        break\n",
        "\n",
        "                if not found_match:\n",
        "                    print(f\"No matches found for a face in {image_name}, but detected emotion: {dominant_emotion}\")\n",
        "\n",
        "        except Exception as e:\n",
        "            print(f\"Error processing {image_name}: {str(e)}\")\n",
        "\n"
      ]
    },
    {
      "cell_type": "code",
      "source": [
        "# Directory containing the test images\n",
        "multiface_detection = r'/content/drive/MyDrive/Directory /Testing Images'\n",
        "multifacetest(multiface_detection, known_faces)"
      ],
      "metadata": {
        "colab": {
          "base_uri": "https://localhost:8080/"
        },
        "id": "0RZD4CbSs3ZC",
        "outputId": "eadf30e2-3c7d-42c8-8be3-0b6c2af10400"
      },
      "execution_count": 4,
      "outputs": [
        {
          "output_type": "stream",
          "name": "stdout",
          "text": [
            "Detected Debarati Sarkar in 0e82c9f5-be0d-440a-a004-79680eaa8dac.jpg with emotion: happy\n",
            "Detected Debarati Sarkar in 0e82c9f5-be0d-440a-a004-79680eaa8dac.jpg with emotion: happy\n",
            "Detected Debarati Sarkar in b22eb268-5485-4e3c-92f5-6f3a12d7a0fe.jpg with emotion: happy\n",
            "Detected Debarati Sarkar in b22eb268-5485-4e3c-92f5-6f3a12d7a0fe.jpg with emotion: neutral\n",
            "Detected Debarati Sarkar in b22eb268-5485-4e3c-92f5-6f3a12d7a0fe.jpg with emotion: surprise\n",
            "Detected Debarati Sarkar in 9c36b6c5-8fa5-4b87-a517-244e9dc344ef.jpg with emotion: happy\n",
            "Detected Debarati Sarkar in 9c36b6c5-8fa5-4b87-a517-244e9dc344ef.jpg with emotion: happy\n",
            "Detected Debarati Sarkar in 4611d3ef-16cf-40f8-93c6-cc78dd70720e.jpg with emotion: happy\n",
            "Detected Debarati Sarkar in 4611d3ef-16cf-40f8-93c6-cc78dd70720e.jpg with emotion: happy\n",
            "Detected Debarati Sarkar in 4611d3ef-16cf-40f8-93c6-cc78dd70720e.jpg with emotion: fear\n",
            "Detected Tannishtha Roy Chowdhury in 1000221691.webp with emotion: happy\n",
            "Detected Tannishtha Roy Chowdhury in 1000221691.webp with emotion: happy\n",
            "Detected Tannishtha Roy Chowdhury in 1000221691.webp with emotion: fear\n",
            "No matches found for a face in IMG_20230311_133422_151_Original.JPG, but detected emotion: fear\n",
            "No matches found for a face in IMG_20230311_100830_258_Original.JPG, but detected emotion: sad\n",
            "Detected Shreya Singha Roy in 1000243414.jpg with emotion: happy\n",
            "Detected Shreya Singha Roy in 1000243414.jpg with emotion: sad\n",
            "Detected Tannishtha Roy Chowdhury in 1000240110.jpg with emotion: happy\n",
            "Detected Tannishtha Roy Chowdhury in 1000240110.jpg with emotion: happy\n",
            "Detected Tannishtha Roy Chowdhury in 1000204691.jpg with emotion: happy\n",
            "Detected Tannishtha Roy Chowdhury in 1000204691.jpg with emotion: happy\n",
            "Detected Tannishtha Roy Chowdhury in IMG_1916.JPG with emotion: happy\n",
            "Detected Tannishtha Roy Chowdhury in IMG_1916.JPG with emotion: happy\n",
            "Detected Debarati Sarkar in 1000226089.jpg with emotion: happy\n",
            "Detected Debarati Sarkar in 1000226089.jpg with emotion: neutral\n",
            "Detected Debarati Sarkar in 1000226089.jpg with emotion: happy\n",
            "Detected Tannishtha Roy Chowdhury in IMG_3251.JPG with emotion: neutral\n",
            "Detected Tannishtha Roy Chowdhury in IMG_3251.JPG with emotion: happy\n",
            "Detected Tannishtha Roy Chowdhury in IMG_3251.JPG with emotion: happy\n",
            "Detected Tannishtha Roy Chowdhury in IMG_3251.JPG with emotion: happy\n",
            "Detected Tannishtha Roy Chowdhury in IMG_3251.JPG with emotion: happy\n",
            "Detected Tannishtha Roy Chowdhury in IMG_3251.JPG with emotion: neutral\n",
            "Detected Tannishtha Roy Chowdhury in IMG_1839.JPG with emotion: happy\n",
            "Detected Tannishtha Roy Chowdhury in IMG_1839.JPG with emotion: sad\n",
            "Detected Tannishtha Roy Chowdhury in IMG_1839.JPG with emotion: sad\n",
            "Detected Tannishtha Roy Chowdhury in IMG_5741.JPG with emotion: happy\n",
            "Detected Tannishtha Roy Chowdhury in IMG_5741.JPG with emotion: neutral\n",
            "Detected Tannishtha Roy Chowdhury in IMG_6074.JPG with emotion: happy\n",
            "Detected Tannishtha Roy Chowdhury in IMG_6074.JPG with emotion: happy\n",
            "Detected Tannishtha Roy Chowdhury in IMG_6074.JPG with emotion: neutral\n",
            "Detected Tannishtha Roy Chowdhury in IMG_6073.JPG with emotion: happy\n",
            "Detected Tannishtha Roy Chowdhury in IMG_6073.JPG with emotion: happy\n",
            "Detected Tannishtha Roy Chowdhury in IMG_6073.JPG with emotion: fear\n",
            "Detected Tannishtha Roy Chowdhury in IMG_20230311_190326_Original.JPG with emotion: happy\n",
            "Detected Tannishtha Roy Chowdhury in IMG_20230311_190326_Original.JPG with emotion: happy\n",
            "Detected Tannishtha Roy Chowdhury in IMG_20230311_190326_Original.JPG with emotion: happy\n",
            "Detected Tannishtha Roy Chowdhury in IMG_20230311_190326_Original.JPG with emotion: sad\n",
            "Detected Tannishtha Roy Chowdhury in 1000239927.jpg with emotion: happy\n",
            "Detected Tannishtha Roy Chowdhury in 1000239927.jpg with emotion: neutral\n",
            "Detected Tannishtha Roy Chowdhury in 1000239927.jpg with emotion: sad\n",
            "Detected Tannishtha Roy Chowdhury in 1000239927.jpg with emotion: sad\n"
          ]
        }
      ]
    },
    {
      "cell_type": "code",
      "execution_count": null,
      "metadata": {
        "id": "WySym1IkarYj"
      },
      "outputs": [],
      "source": []
    }
  ],
  "metadata": {
    "colab": {
      "provenance": [],
      "include_colab_link": true
    },
    "kernelspec": {
      "display_name": "Python 3",
      "name": "python3"
    },
    "language_info": {
      "name": "python"
    }
  },
  "nbformat": 4,
  "nbformat_minor": 0
}