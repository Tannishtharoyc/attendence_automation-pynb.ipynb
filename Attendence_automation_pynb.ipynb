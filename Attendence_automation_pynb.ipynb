{
  "nbformat": 4,
  "nbformat_minor": 0,
  "metadata": {
    "colab": {
      "provenance": [],
      "include_colab_link": true
    },
    "kernelspec": {
      "name": "python3",
      "display_name": "Python 3"
    },
    "language_info": {
      "name": "python"
    }
  },
  "cells": [
    {
      "cell_type": "markdown",
      "metadata": {
        "id": "view-in-github",
        "colab_type": "text"
      },
      "source": [
        "<a href=\"https://colab.research.google.com/github/Tannishtharoyc/attendence_automation-pynb.ipynb/blob/main/Attendence_automation_pynb.ipynb\" target=\"_parent\"><img src=\"https://colab.research.google.com/assets/colab-badge.svg\" alt=\"Open In Colab\"/></a>"
      ]
    },
    {
      "cell_type": "code",
      "execution_count": null,
      "metadata": {
        "colab": {
          "base_uri": "https://localhost:8080/"
        },
        "id": "8IubK8yA8D3R",
        "outputId": "a301bf7a-4226-48de-96f7-15d59bd9e5f4"
      },
      "outputs": [
        {
          "output_type": "stream",
          "name": "stdout",
          "text": [
            "Done\n",
            "['.config', 'Training Images', 'Testing Images-20240620T232627Z-001.zip', 'drive', 'Face.data', 'sample_data']\n"
          ]
        }
      ],
      "source": [
        "import zipfile\n",
        "import os\n",
        "\n",
        "# Path to the uploaded zip file\n",
        "zip_file_path = '/Training Images-20240620T232633Z-001.zip'\n",
        "\n",
        "#extract_path = 'path/to/extracted/dataset/'\n",
        "# Unzip the file\n",
        "with zipfile.ZipFile(zip_file_path,'r') as zip:\n",
        "  zip.extractall()\n",
        "  print('Done')\n",
        "#with zipfile(zip_file_path, 'r') as zip_ref:\n",
        "    #zip_ref.extractall()\n",
        "\n",
        "# List the directories to check the structure\n",
        "extracted_dirs = os.listdir()\n",
        "print(extracted_dirs)\n"
      ]
    },
    {
      "cell_type": "code",
      "source": [
        "from google.colab import drive\n",
        "drive.mount('/content/drive')"
      ],
      "metadata": {
        "colab": {
          "base_uri": "https://localhost:8080/"
        },
        "id": "Dxjik_jfi6gm",
        "outputId": "11b28fba-1d19-44f6-e8a5-cf8af568d7fe"
      },
      "execution_count": 4,
      "outputs": [
        {
          "output_type": "stream",
          "name": "stdout",
          "text": [
            "Drive already mounted at /content/drive; to attempt to forcibly remount, call drive.mount(\"/content/drive\", force_remount=True).\n"
          ]
        }
      ]
    },
    {
      "cell_type": "code",
      "source": [
        "!pip install deepface\n",
        "!pip install tensorflow==2.12"
      ],
      "metadata": {
        "colab": {
          "base_uri": "https://localhost:8080/"
        },
        "id": "-nNPIGmX9CIy",
        "outputId": "057b81b9-e72f-4c0a-a914-6262a1e7b647"
      },
      "execution_count": 1,
      "outputs": [
        {
          "output_type": "stream",
          "name": "stdout",
          "text": [
            "Requirement already satisfied: deepface in /usr/local/lib/python3.10/dist-packages (0.0.92)\n",
            "Requirement already satisfied: requests>=2.27.1 in /usr/local/lib/python3.10/dist-packages (from deepface) (2.31.0)\n",
            "Requirement already satisfied: numpy>=1.14.0 in /usr/local/lib/python3.10/dist-packages (from deepface) (1.23.5)\n",
            "Requirement already satisfied: pandas>=0.23.4 in /usr/local/lib/python3.10/dist-packages (from deepface) (2.0.3)\n",
            "Requirement already satisfied: gdown>=3.10.1 in /usr/local/lib/python3.10/dist-packages (from deepface) (5.1.0)\n",
            "Requirement already satisfied: tqdm>=4.30.0 in /usr/local/lib/python3.10/dist-packages (from deepface) (4.66.4)\n",
            "Requirement already satisfied: Pillow>=5.2.0 in /usr/local/lib/python3.10/dist-packages (from deepface) (9.4.0)\n",
            "Requirement already satisfied: opencv-python>=4.5.5.64 in /usr/local/lib/python3.10/dist-packages (from deepface) (4.8.0.76)\n",
            "Requirement already satisfied: tensorflow>=1.9.0 in /usr/local/lib/python3.10/dist-packages (from deepface) (2.12.0)\n",
            "Requirement already satisfied: keras>=2.2.0 in /usr/local/lib/python3.10/dist-packages (from deepface) (2.12.0)\n",
            "Requirement already satisfied: Flask>=1.1.2 in /usr/local/lib/python3.10/dist-packages (from deepface) (2.2.5)\n",
            "Requirement already satisfied: mtcnn>=0.1.0 in /usr/local/lib/python3.10/dist-packages (from deepface) (0.1.1)\n",
            "Requirement already satisfied: retina-face>=0.0.1 in /usr/local/lib/python3.10/dist-packages (from deepface) (0.0.17)\n",
            "Requirement already satisfied: fire>=0.4.0 in /usr/local/lib/python3.10/dist-packages (from deepface) (0.6.0)\n",
            "Requirement already satisfied: gunicorn>=20.1.0 in /usr/local/lib/python3.10/dist-packages (from deepface) (22.0.0)\n",
            "Requirement already satisfied: six in /usr/local/lib/python3.10/dist-packages (from fire>=0.4.0->deepface) (1.16.0)\n",
            "Requirement already satisfied: termcolor in /usr/local/lib/python3.10/dist-packages (from fire>=0.4.0->deepface) (2.4.0)\n",
            "Requirement already satisfied: Werkzeug>=2.2.2 in /usr/local/lib/python3.10/dist-packages (from Flask>=1.1.2->deepface) (3.0.3)\n",
            "Requirement already satisfied: Jinja2>=3.0 in /usr/local/lib/python3.10/dist-packages (from Flask>=1.1.2->deepface) (3.1.4)\n",
            "Requirement already satisfied: itsdangerous>=2.0 in /usr/local/lib/python3.10/dist-packages (from Flask>=1.1.2->deepface) (2.2.0)\n",
            "Requirement already satisfied: click>=8.0 in /usr/local/lib/python3.10/dist-packages (from Flask>=1.1.2->deepface) (8.1.7)\n",
            "Requirement already satisfied: beautifulsoup4 in /usr/local/lib/python3.10/dist-packages (from gdown>=3.10.1->deepface) (4.12.3)\n",
            "Requirement already satisfied: filelock in /usr/local/lib/python3.10/dist-packages (from gdown>=3.10.1->deepface) (3.15.1)\n",
            "Requirement already satisfied: packaging in /usr/local/lib/python3.10/dist-packages (from gunicorn>=20.1.0->deepface) (24.1)\n",
            "Requirement already satisfied: python-dateutil>=2.8.2 in /usr/local/lib/python3.10/dist-packages (from pandas>=0.23.4->deepface) (2.8.2)\n",
            "Requirement already satisfied: pytz>=2020.1 in /usr/local/lib/python3.10/dist-packages (from pandas>=0.23.4->deepface) (2023.4)\n",
            "Requirement already satisfied: tzdata>=2022.1 in /usr/local/lib/python3.10/dist-packages (from pandas>=0.23.4->deepface) (2024.1)\n",
            "Requirement already satisfied: charset-normalizer<4,>=2 in /usr/local/lib/python3.10/dist-packages (from requests>=2.27.1->deepface) (3.3.2)\n",
            "Requirement already satisfied: idna<4,>=2.5 in /usr/local/lib/python3.10/dist-packages (from requests>=2.27.1->deepface) (3.7)\n",
            "Requirement already satisfied: urllib3<3,>=1.21.1 in /usr/local/lib/python3.10/dist-packages (from requests>=2.27.1->deepface) (2.0.7)\n",
            "Requirement already satisfied: certifi>=2017.4.17 in /usr/local/lib/python3.10/dist-packages (from requests>=2.27.1->deepface) (2024.6.2)\n",
            "Requirement already satisfied: absl-py>=1.0.0 in /usr/local/lib/python3.10/dist-packages (from tensorflow>=1.9.0->deepface) (1.4.0)\n",
            "Requirement already satisfied: astunparse>=1.6.0 in /usr/local/lib/python3.10/dist-packages (from tensorflow>=1.9.0->deepface) (1.6.3)\n",
            "Requirement already satisfied: flatbuffers>=2.0 in /usr/local/lib/python3.10/dist-packages (from tensorflow>=1.9.0->deepface) (24.3.25)\n",
            "Requirement already satisfied: gast<=0.4.0,>=0.2.1 in /usr/local/lib/python3.10/dist-packages (from tensorflow>=1.9.0->deepface) (0.4.0)\n",
            "Requirement already satisfied: google-pasta>=0.1.1 in /usr/local/lib/python3.10/dist-packages (from tensorflow>=1.9.0->deepface) (0.2.0)\n",
            "Requirement already satisfied: grpcio<2.0,>=1.24.3 in /usr/local/lib/python3.10/dist-packages (from tensorflow>=1.9.0->deepface) (1.64.1)\n",
            "Requirement already satisfied: h5py>=2.9.0 in /usr/local/lib/python3.10/dist-packages (from tensorflow>=1.9.0->deepface) (3.9.0)\n",
            "Requirement already satisfied: jax>=0.3.15 in /usr/local/lib/python3.10/dist-packages (from tensorflow>=1.9.0->deepface) (0.4.26)\n",
            "Requirement already satisfied: libclang>=13.0.0 in /usr/local/lib/python3.10/dist-packages (from tensorflow>=1.9.0->deepface) (18.1.1)\n",
            "Requirement already satisfied: opt-einsum>=2.3.2 in /usr/local/lib/python3.10/dist-packages (from tensorflow>=1.9.0->deepface) (3.3.0)\n",
            "Requirement already satisfied: protobuf!=4.21.0,!=4.21.1,!=4.21.2,!=4.21.3,!=4.21.4,!=4.21.5,<5.0.0dev,>=3.20.3 in /usr/local/lib/python3.10/dist-packages (from tensorflow>=1.9.0->deepface) (3.20.3)\n",
            "Requirement already satisfied: setuptools in /usr/local/lib/python3.10/dist-packages (from tensorflow>=1.9.0->deepface) (67.7.2)\n",
            "Requirement already satisfied: tensorboard<2.13,>=2.12 in /usr/local/lib/python3.10/dist-packages (from tensorflow>=1.9.0->deepface) (2.12.3)\n",
            "Requirement already satisfied: tensorflow-estimator<2.13,>=2.12.0 in /usr/local/lib/python3.10/dist-packages (from tensorflow>=1.9.0->deepface) (2.12.0)\n",
            "Requirement already satisfied: typing-extensions>=3.6.6 in /usr/local/lib/python3.10/dist-packages (from tensorflow>=1.9.0->deepface) (4.12.2)\n",
            "Requirement already satisfied: wrapt<1.15,>=1.11.0 in /usr/local/lib/python3.10/dist-packages (from tensorflow>=1.9.0->deepface) (1.14.1)\n",
            "Requirement already satisfied: tensorflow-io-gcs-filesystem>=0.23.1 in /usr/local/lib/python3.10/dist-packages (from tensorflow>=1.9.0->deepface) (0.37.0)\n",
            "Requirement already satisfied: wheel<1.0,>=0.23.0 in /usr/local/lib/python3.10/dist-packages (from astunparse>=1.6.0->tensorflow>=1.9.0->deepface) (0.43.0)\n",
            "Requirement already satisfied: ml-dtypes>=0.2.0 in /usr/local/lib/python3.10/dist-packages (from jax>=0.3.15->tensorflow>=1.9.0->deepface) (0.2.0)\n",
            "Requirement already satisfied: scipy>=1.9 in /usr/local/lib/python3.10/dist-packages (from jax>=0.3.15->tensorflow>=1.9.0->deepface) (1.11.4)\n",
            "Requirement already satisfied: MarkupSafe>=2.0 in /usr/local/lib/python3.10/dist-packages (from Jinja2>=3.0->Flask>=1.1.2->deepface) (2.1.5)\n",
            "Requirement already satisfied: google-auth<3,>=1.6.3 in /usr/local/lib/python3.10/dist-packages (from tensorboard<2.13,>=2.12->tensorflow>=1.9.0->deepface) (2.27.0)\n",
            "Requirement already satisfied: google-auth-oauthlib<1.1,>=0.5 in /usr/local/lib/python3.10/dist-packages (from tensorboard<2.13,>=2.12->tensorflow>=1.9.0->deepface) (1.0.0)\n",
            "Requirement already satisfied: markdown>=2.6.8 in /usr/local/lib/python3.10/dist-packages (from tensorboard<2.13,>=2.12->tensorflow>=1.9.0->deepface) (3.6)\n",
            "Requirement already satisfied: tensorboard-data-server<0.8.0,>=0.7.0 in /usr/local/lib/python3.10/dist-packages (from tensorboard<2.13,>=2.12->tensorflow>=1.9.0->deepface) (0.7.2)\n",
            "Requirement already satisfied: soupsieve>1.2 in /usr/local/lib/python3.10/dist-packages (from beautifulsoup4->gdown>=3.10.1->deepface) (2.5)\n",
            "Requirement already satisfied: PySocks!=1.5.7,>=1.5.6 in /usr/local/lib/python3.10/dist-packages (from requests>=2.27.1->deepface) (1.7.1)\n",
            "Requirement already satisfied: cachetools<6.0,>=2.0.0 in /usr/local/lib/python3.10/dist-packages (from google-auth<3,>=1.6.3->tensorboard<2.13,>=2.12->tensorflow>=1.9.0->deepface) (5.3.3)\n",
            "Requirement already satisfied: pyasn1-modules>=0.2.1 in /usr/local/lib/python3.10/dist-packages (from google-auth<3,>=1.6.3->tensorboard<2.13,>=2.12->tensorflow>=1.9.0->deepface) (0.4.0)\n",
            "Requirement already satisfied: rsa<5,>=3.1.4 in /usr/local/lib/python3.10/dist-packages (from google-auth<3,>=1.6.3->tensorboard<2.13,>=2.12->tensorflow>=1.9.0->deepface) (4.9)\n",
            "Requirement already satisfied: requests-oauthlib>=0.7.0 in /usr/local/lib/python3.10/dist-packages (from google-auth-oauthlib<1.1,>=0.5->tensorboard<2.13,>=2.12->tensorflow>=1.9.0->deepface) (1.3.1)\n",
            "Requirement already satisfied: pyasn1<0.7.0,>=0.4.6 in /usr/local/lib/python3.10/dist-packages (from pyasn1-modules>=0.2.1->google-auth<3,>=1.6.3->tensorboard<2.13,>=2.12->tensorflow>=1.9.0->deepface) (0.6.0)\n",
            "Requirement already satisfied: oauthlib>=3.0.0 in /usr/local/lib/python3.10/dist-packages (from requests-oauthlib>=0.7.0->google-auth-oauthlib<1.1,>=0.5->tensorboard<2.13,>=2.12->tensorflow>=1.9.0->deepface) (3.2.2)\n",
            "Requirement already satisfied: tensorflow==2.12 in /usr/local/lib/python3.10/dist-packages (2.12.0)\n",
            "Requirement already satisfied: absl-py>=1.0.0 in /usr/local/lib/python3.10/dist-packages (from tensorflow==2.12) (1.4.0)\n",
            "Requirement already satisfied: astunparse>=1.6.0 in /usr/local/lib/python3.10/dist-packages (from tensorflow==2.12) (1.6.3)\n",
            "Requirement already satisfied: flatbuffers>=2.0 in /usr/local/lib/python3.10/dist-packages (from tensorflow==2.12) (24.3.25)\n",
            "Requirement already satisfied: gast<=0.4.0,>=0.2.1 in /usr/local/lib/python3.10/dist-packages (from tensorflow==2.12) (0.4.0)\n",
            "Requirement already satisfied: google-pasta>=0.1.1 in /usr/local/lib/python3.10/dist-packages (from tensorflow==2.12) (0.2.0)\n",
            "Requirement already satisfied: grpcio<2.0,>=1.24.3 in /usr/local/lib/python3.10/dist-packages (from tensorflow==2.12) (1.64.1)\n",
            "Requirement already satisfied: h5py>=2.9.0 in /usr/local/lib/python3.10/dist-packages (from tensorflow==2.12) (3.9.0)\n",
            "Requirement already satisfied: jax>=0.3.15 in /usr/local/lib/python3.10/dist-packages (from tensorflow==2.12) (0.4.26)\n",
            "Requirement already satisfied: keras<2.13,>=2.12.0 in /usr/local/lib/python3.10/dist-packages (from tensorflow==2.12) (2.12.0)\n",
            "Requirement already satisfied: libclang>=13.0.0 in /usr/local/lib/python3.10/dist-packages (from tensorflow==2.12) (18.1.1)\n",
            "Requirement already satisfied: numpy<1.24,>=1.22 in /usr/local/lib/python3.10/dist-packages (from tensorflow==2.12) (1.23.5)\n",
            "Requirement already satisfied: opt-einsum>=2.3.2 in /usr/local/lib/python3.10/dist-packages (from tensorflow==2.12) (3.3.0)\n",
            "Requirement already satisfied: packaging in /usr/local/lib/python3.10/dist-packages (from tensorflow==2.12) (24.1)\n",
            "Requirement already satisfied: protobuf!=4.21.0,!=4.21.1,!=4.21.2,!=4.21.3,!=4.21.4,!=4.21.5,<5.0.0dev,>=3.20.3 in /usr/local/lib/python3.10/dist-packages (from tensorflow==2.12) (3.20.3)\n",
            "Requirement already satisfied: setuptools in /usr/local/lib/python3.10/dist-packages (from tensorflow==2.12) (67.7.2)\n",
            "Requirement already satisfied: six>=1.12.0 in /usr/local/lib/python3.10/dist-packages (from tensorflow==2.12) (1.16.0)\n",
            "Requirement already satisfied: tensorboard<2.13,>=2.12 in /usr/local/lib/python3.10/dist-packages (from tensorflow==2.12) (2.12.3)\n",
            "Requirement already satisfied: tensorflow-estimator<2.13,>=2.12.0 in /usr/local/lib/python3.10/dist-packages (from tensorflow==2.12) (2.12.0)\n",
            "Requirement already satisfied: termcolor>=1.1.0 in /usr/local/lib/python3.10/dist-packages (from tensorflow==2.12) (2.4.0)\n",
            "Requirement already satisfied: typing-extensions>=3.6.6 in /usr/local/lib/python3.10/dist-packages (from tensorflow==2.12) (4.12.2)\n",
            "Requirement already satisfied: wrapt<1.15,>=1.11.0 in /usr/local/lib/python3.10/dist-packages (from tensorflow==2.12) (1.14.1)\n",
            "Requirement already satisfied: tensorflow-io-gcs-filesystem>=0.23.1 in /usr/local/lib/python3.10/dist-packages (from tensorflow==2.12) (0.37.0)\n",
            "Requirement already satisfied: wheel<1.0,>=0.23.0 in /usr/local/lib/python3.10/dist-packages (from astunparse>=1.6.0->tensorflow==2.12) (0.43.0)\n",
            "Requirement already satisfied: ml-dtypes>=0.2.0 in /usr/local/lib/python3.10/dist-packages (from jax>=0.3.15->tensorflow==2.12) (0.2.0)\n",
            "Requirement already satisfied: scipy>=1.9 in /usr/local/lib/python3.10/dist-packages (from jax>=0.3.15->tensorflow==2.12) (1.11.4)\n",
            "Requirement already satisfied: google-auth<3,>=1.6.3 in /usr/local/lib/python3.10/dist-packages (from tensorboard<2.13,>=2.12->tensorflow==2.12) (2.27.0)\n",
            "Requirement already satisfied: google-auth-oauthlib<1.1,>=0.5 in /usr/local/lib/python3.10/dist-packages (from tensorboard<2.13,>=2.12->tensorflow==2.12) (1.0.0)\n",
            "Requirement already satisfied: markdown>=2.6.8 in /usr/local/lib/python3.10/dist-packages (from tensorboard<2.13,>=2.12->tensorflow==2.12) (3.6)\n",
            "Requirement already satisfied: requests<3,>=2.21.0 in /usr/local/lib/python3.10/dist-packages (from tensorboard<2.13,>=2.12->tensorflow==2.12) (2.31.0)\n",
            "Requirement already satisfied: tensorboard-data-server<0.8.0,>=0.7.0 in /usr/local/lib/python3.10/dist-packages (from tensorboard<2.13,>=2.12->tensorflow==2.12) (0.7.2)\n",
            "Requirement already satisfied: werkzeug>=1.0.1 in /usr/local/lib/python3.10/dist-packages (from tensorboard<2.13,>=2.12->tensorflow==2.12) (3.0.3)\n",
            "Requirement already satisfied: cachetools<6.0,>=2.0.0 in /usr/local/lib/python3.10/dist-packages (from google-auth<3,>=1.6.3->tensorboard<2.13,>=2.12->tensorflow==2.12) (5.3.3)\n",
            "Requirement already satisfied: pyasn1-modules>=0.2.1 in /usr/local/lib/python3.10/dist-packages (from google-auth<3,>=1.6.3->tensorboard<2.13,>=2.12->tensorflow==2.12) (0.4.0)\n",
            "Requirement already satisfied: rsa<5,>=3.1.4 in /usr/local/lib/python3.10/dist-packages (from google-auth<3,>=1.6.3->tensorboard<2.13,>=2.12->tensorflow==2.12) (4.9)\n",
            "Requirement already satisfied: requests-oauthlib>=0.7.0 in /usr/local/lib/python3.10/dist-packages (from google-auth-oauthlib<1.1,>=0.5->tensorboard<2.13,>=2.12->tensorflow==2.12) (1.3.1)\n",
            "Requirement already satisfied: charset-normalizer<4,>=2 in /usr/local/lib/python3.10/dist-packages (from requests<3,>=2.21.0->tensorboard<2.13,>=2.12->tensorflow==2.12) (3.3.2)\n",
            "Requirement already satisfied: idna<4,>=2.5 in /usr/local/lib/python3.10/dist-packages (from requests<3,>=2.21.0->tensorboard<2.13,>=2.12->tensorflow==2.12) (3.7)\n",
            "Requirement already satisfied: urllib3<3,>=1.21.1 in /usr/local/lib/python3.10/dist-packages (from requests<3,>=2.21.0->tensorboard<2.13,>=2.12->tensorflow==2.12) (2.0.7)\n",
            "Requirement already satisfied: certifi>=2017.4.17 in /usr/local/lib/python3.10/dist-packages (from requests<3,>=2.21.0->tensorboard<2.13,>=2.12->tensorflow==2.12) (2024.6.2)\n",
            "Requirement already satisfied: MarkupSafe>=2.1.1 in /usr/local/lib/python3.10/dist-packages (from werkzeug>=1.0.1->tensorboard<2.13,>=2.12->tensorflow==2.12) (2.1.5)\n",
            "Requirement already satisfied: pyasn1<0.7.0,>=0.4.6 in /usr/local/lib/python3.10/dist-packages (from pyasn1-modules>=0.2.1->google-auth<3,>=1.6.3->tensorboard<2.13,>=2.12->tensorflow==2.12) (0.6.0)\n",
            "Requirement already satisfied: oauthlib>=3.0.0 in /usr/local/lib/python3.10/dist-packages (from requests-oauthlib>=0.7.0->google-auth-oauthlib<1.1,>=0.5->tensorboard<2.13,>=2.12->tensorflow==2.12) (3.2.2)\n"
          ]
        }
      ]
    },
    {
      "cell_type": "code",
      "source": [
        "from deepface import DeepFace\n",
        "import os\n",
        "\n",
        "# Set the paths\n",
        "train_dir = '/content/drive/MyDrive/Training Images'\n",
        "test_dir = '/content/drive/MyDrive/Testing Images'\n",
        "\n",
        "# Verify the directory structure\n",
        "print(\"Training images:\")\n",
        "print(os.listdir(train_dir))\n",
        "print(\"Testing images:\")\n",
        "print(os.listdir(test_dir))\n",
        "\n",
        "# DeepFace doesn't have a direct training function like other frameworks.\n",
        "# Instead, it's more commonly used for pre-trained model inference and fine-tuning.\n",
        "\n",
        "# Perform face recognition using DeepFace\n",
        "models = [\"VGG-Face\", \"Facenet\", \"OpenFace\", \"DeepFace\", \"DeepID\", \"Dlib\"]\n",
        "\n",
        "# Example to find the best model\n",
        "result = DeepFace.find(img_path=\"/content/drive/MyDrive/Training Images/Shreya Singha Roy /02b252ca-e27f-4761-b668-ddccfdc5787f.jpg\", db_path=train_dir, model_name=models[0], enforce_detection=False)\n",
        "print(result)\n",
        "#df = pd.DataFrame(result)\n",
        "#print(df.head())\n",
        "print(result[0])\n"
      ],
      "metadata": {
        "id": "zmItpv2L9LpB",
        "colab": {
          "base_uri": "https://localhost:8080/"
        },
        "outputId": "0c46591b-7070-44be-c7ee-c78f52258511"
      },
      "execution_count": 7,
      "outputs": [
        {
          "output_type": "stream",
          "name": "stdout",
          "text": [
            "Training images:\n",
            "['Debarati Sarkar', 'Om Sarkar', 'Aishi Sarkar', 'Shreya Singha Roy ', 'Tannishtha Roy Chowdhury ', 'ds_model_facenet_detector_opencv_aligned_normalization_base_expand_0.pkl', 'ds_model_openface_detector_opencv_aligned_normalization_base_expand_0.pkl', 'ds_model_deepface_detector_opencv_aligned_normalization_base_expand_0.pkl', 'ds_model_vggface_detector_opencv_aligned_normalization_base_expand_0.pkl']\n",
            "Testing images:\n",
            "['1000221691.webp', 'IMG_20230311_133422_151_Original.JPG', 'IMG_20230311_100830_258_Original.JPG', '1000243414.jpg', '1000240110.jpg', '1000204691.jpg', 'IMG_1916.JPG', '1000226089.jpg', 'IMG_3251.JPG', 'IMG_1839.JPG', 'IMG_5741.JPG', 'IMG_6074.JPG', 'IMG_6073.JPG', 'IMG_20230311_190326_Original.JPG', '1000239927.jpg']\n",
            "24-06-21 08:55:40 - Found 0 newly added image(s), 0 removed image(s), 61 replaced image(s).\n"
          ]
        },
        {
          "output_type": "stream",
          "name": "stderr",
          "text": [
            "Finding representations: 100%|██████████| 61/61 [02:18<00:00,  2.27s/it]\n"
          ]
        },
        {
          "output_type": "stream",
          "name": "stdout",
          "text": [
            "24-06-21 08:57:59 - There are now 65 representations in ds_model_vggface_detector_opencv_aligned_normalization_base_expand_0.pkl\n",
            "24-06-21 08:57:59 - Searching /content/drive/MyDrive/Training Images/Shreya Singha Roy /02b252ca-e27f-4761-b668-ddccfdc5787f.jpg in 65 length datastore\n",
            "24-06-21 08:58:00 - find function duration 139.97654604911804 seconds\n",
            "[                                             identity  \\\n",
            "0   /content/drive/MyDrive/Training Images/Shreya ...   \n",
            "1   /content/drive/MyDrive/Training Images/Shreya ...   \n",
            "2   /content/drive/MyDrive/Training Images/Shreya ...   \n",
            "3   /content/drive/MyDrive/Training Images/Shreya ...   \n",
            "4   /content/drive/MyDrive/Training Images/Shreya ...   \n",
            "5   /content/drive/MyDrive/Training Images/Shreya ...   \n",
            "6   /content/drive/MyDrive/Training Images/Shreya ...   \n",
            "7   /content/drive/MyDrive/Training Images/Shreya ...   \n",
            "8   /content/drive/MyDrive/Training Images/Shreya ...   \n",
            "9   /content/drive/MyDrive/Training Images/Shreya ...   \n",
            "10  /content/drive/MyDrive/Training Images/Shreya ...   \n",
            "11  /content/drive/MyDrive/Training Images/Shreya ...   \n",
            "12  /content/drive/MyDrive/Training Images/Aishi S...   \n",
            "13  /content/drive/MyDrive/Training Images/Aishi S...   \n",
            "14  /content/drive/MyDrive/Training Images/Aishi S...   \n",
            "15  /content/drive/MyDrive/Training Images/Om Sark...   \n",
            "\n",
            "                                        hash  target_x  target_y  target_w  \\\n",
            "0   87570b21b8bf1e6597aa3e2acc38e85873bae0b8       210       178       813   \n",
            "1   7231322fc15ecae6bba013d3de05f26fea8b3455       -16       163       760   \n",
            "2   cb57d3701fe0746bd9c9fb3311230a7bb9d2f329        80       144       757   \n",
            "3   1d1316e5ccd3eb9f9b571bc9c375fd36170707aa        60       150       744   \n",
            "4   ff8ab9a17bc8ab128f183607c8ea2d16a121d8a0       253       209       784   \n",
            "5   47ddcd0784fb1e8f8233a9a1c1d53e1c9b8ac188       253       209       784   \n",
            "6   b9a0dfade7cf5631dbb1b30b504fd653f99be97f        27       133       740   \n",
            "7   62a61fb40c2d117b18f0b175e93584859dae90a7         0         0       853   \n",
            "8   14f81cbd2c9a1940266f0d6209e7014b3fe7a587         0         0       857   \n",
            "9   ccd9902a49b4afe5befbe3481dd9ac6537aa1107         0         0       797   \n",
            "10  c24236fdc5d5dab231c96c53460bb88fb090419c         0         0       786   \n",
            "11  dd1c6bf6104da4df7939e800583a8de01340388a         0         0       824   \n",
            "12  38d5b68f673e06f3ad897e432fa951554554b167       -34       235       899   \n",
            "13  b869b40aeb4d1a713bd526f6594af13b23ff9a18       -37       231       853   \n",
            "14  6f73ec2d03ec9f6ace5bd73cf9d96e9455b5ecea         6       255       728   \n",
            "15  88a472fc6b971ce35cbd8e5fe2c146c6c3a58dd4      -118       319       992   \n",
            "\n",
            "    target_h  source_x  source_y  source_w  source_h  threshold  distance  \n",
            "0        813       210       178       813       813       0.68  0.000000  \n",
            "1        760       210       178       813       813       0.68  0.176898  \n",
            "2        757       210       178       813       813       0.68  0.205117  \n",
            "3        744       210       178       813       813       0.68  0.217997  \n",
            "4        784       210       178       813       813       0.68  0.224577  \n",
            "5        784       210       178       813       813       0.68  0.224577  \n",
            "6        740       210       178       813       813       0.68  0.255199  \n",
            "7       1111       210       178       813       813       0.68  0.301136  \n",
            "8       1102       210       178       813       813       0.68  0.301688  \n",
            "9       1149       210       178       813       813       0.68  0.343695  \n",
            "10      1041       210       178       813       813       0.68  0.350183  \n",
            "11      1051       210       178       813       813       0.68  0.471718  \n",
            "12       899       210       178       813       813       0.68  0.637646  \n",
            "13       853       210       178       813       813       0.68  0.655356  \n",
            "14       728       210       178       813       813       0.68  0.673987  \n",
            "15       992       210       178       813       813       0.68  0.679348  ]\n",
            "                                             identity  \\\n",
            "0   /content/drive/MyDrive/Training Images/Shreya ...   \n",
            "1   /content/drive/MyDrive/Training Images/Shreya ...   \n",
            "2   /content/drive/MyDrive/Training Images/Shreya ...   \n",
            "3   /content/drive/MyDrive/Training Images/Shreya ...   \n",
            "4   /content/drive/MyDrive/Training Images/Shreya ...   \n",
            "5   /content/drive/MyDrive/Training Images/Shreya ...   \n",
            "6   /content/drive/MyDrive/Training Images/Shreya ...   \n",
            "7   /content/drive/MyDrive/Training Images/Shreya ...   \n",
            "8   /content/drive/MyDrive/Training Images/Shreya ...   \n",
            "9   /content/drive/MyDrive/Training Images/Shreya ...   \n",
            "10  /content/drive/MyDrive/Training Images/Shreya ...   \n",
            "11  /content/drive/MyDrive/Training Images/Shreya ...   \n",
            "12  /content/drive/MyDrive/Training Images/Aishi S...   \n",
            "13  /content/drive/MyDrive/Training Images/Aishi S...   \n",
            "14  /content/drive/MyDrive/Training Images/Aishi S...   \n",
            "15  /content/drive/MyDrive/Training Images/Om Sark...   \n",
            "\n",
            "                                        hash  target_x  target_y  target_w  \\\n",
            "0   87570b21b8bf1e6597aa3e2acc38e85873bae0b8       210       178       813   \n",
            "1   7231322fc15ecae6bba013d3de05f26fea8b3455       -16       163       760   \n",
            "2   cb57d3701fe0746bd9c9fb3311230a7bb9d2f329        80       144       757   \n",
            "3   1d1316e5ccd3eb9f9b571bc9c375fd36170707aa        60       150       744   \n",
            "4   ff8ab9a17bc8ab128f183607c8ea2d16a121d8a0       253       209       784   \n",
            "5   47ddcd0784fb1e8f8233a9a1c1d53e1c9b8ac188       253       209       784   \n",
            "6   b9a0dfade7cf5631dbb1b30b504fd653f99be97f        27       133       740   \n",
            "7   62a61fb40c2d117b18f0b175e93584859dae90a7         0         0       853   \n",
            "8   14f81cbd2c9a1940266f0d6209e7014b3fe7a587         0         0       857   \n",
            "9   ccd9902a49b4afe5befbe3481dd9ac6537aa1107         0         0       797   \n",
            "10  c24236fdc5d5dab231c96c53460bb88fb090419c         0         0       786   \n",
            "11  dd1c6bf6104da4df7939e800583a8de01340388a         0         0       824   \n",
            "12  38d5b68f673e06f3ad897e432fa951554554b167       -34       235       899   \n",
            "13  b869b40aeb4d1a713bd526f6594af13b23ff9a18       -37       231       853   \n",
            "14  6f73ec2d03ec9f6ace5bd73cf9d96e9455b5ecea         6       255       728   \n",
            "15  88a472fc6b971ce35cbd8e5fe2c146c6c3a58dd4      -118       319       992   \n",
            "\n",
            "    target_h  source_x  source_y  source_w  source_h  threshold  distance  \n",
            "0        813       210       178       813       813       0.68  0.000000  \n",
            "1        760       210       178       813       813       0.68  0.176898  \n",
            "2        757       210       178       813       813       0.68  0.205117  \n",
            "3        744       210       178       813       813       0.68  0.217997  \n",
            "4        784       210       178       813       813       0.68  0.224577  \n",
            "5        784       210       178       813       813       0.68  0.224577  \n",
            "6        740       210       178       813       813       0.68  0.255199  \n",
            "7       1111       210       178       813       813       0.68  0.301136  \n",
            "8       1102       210       178       813       813       0.68  0.301688  \n",
            "9       1149       210       178       813       813       0.68  0.343695  \n",
            "10      1041       210       178       813       813       0.68  0.350183  \n",
            "11      1051       210       178       813       813       0.68  0.471718  \n",
            "12       899       210       178       813       813       0.68  0.637646  \n",
            "13       853       210       178       813       813       0.68  0.655356  \n",
            "14       728       210       178       813       813       0.68  0.673987  \n",
            "15       992       210       178       813       813       0.68  0.679348  \n"
          ]
        }
      ]
    },
    {
      "cell_type": "code",
      "source": [
        "from deepface import DeepFace\n",
        "import os\n",
        "from sklearn.metrics import accuracy_score\n",
        "\n",
        "# Set the paths\n",
        "train_dir = '/content/drive/MyDrive/Training Images'\n",
        "test_dir = '/content/drive/MyDrive/Testing Images'\n",
        "\n",
        "# Verify the directory structure\n",
        "print(\"Training images:\")\n",
        "print(os.listdir(train_dir))\n",
        "print(\"Testing images:\")\n",
        "print(os.listdir(test_dir))\n",
        "\n",
        "# List of models to evaluate\n",
        "models = [\"Facenet\", \"OpenFace\", \"DeepFace\"]\n",
        "\n",
        "# Function to get image paths\n",
        "def get_image_paths(directory):\n",
        "    image_paths = []\n",
        "    for root, _, files in os.walk(directory):\n",
        "        for file in files:\n",
        "            if file.endswith(('png', 'jpg', 'jpeg', 'jpg')):\n",
        "                image_paths.append(os.path.join(root, file))\n",
        "    return image_paths\n",
        "\n",
        "# Get training and testing image paths\n",
        "train_image_paths = get_image_paths(train_dir)\n",
        "test_image_paths = get_image_paths(test_dir)\n",
        "\n",
        "# Example model evaluation function\n",
        "def evaluate_model(model_name):\n",
        "    print(f\"Evaluating model: {model_name}\")\n",
        "    y_true = []\n",
        "    y_pred = []\n",
        "\n",
        "    # For each test image, find the most similar image in the training set\n",
        "    for test_image in test_image_paths:\n",
        "        try:\n",
        "            result = DeepFace.find(img_path=test_image, db_path=train_dir, model_name=model_name, enforce_detection=False, detector_backend='opencv')\n",
        "            if len(result) > 0:\n",
        "                most_similar_image = result[0].iloc[0]['identity']  # Correctly access the 'identity' column\n",
        "\n",
        "                # Get the true label (folder name) of the test image\n",
        "                true_label = os.path.basename(os.path.dirname(test_image))\n",
        "                # Get the predicted label (folder name) of the most similar training image\n",
        "                pred_label = os.path.basename(os.path.dirname(most_similar_image))\n",
        "\n",
        "                y_true.append(true_label)\n",
        "                y_pred.append(pred_label)\n",
        "\n",
        "                # Print debug information\n",
        "                print(f\"Test Image: {test_image}\")\n",
        "                print(f\"Most Similar Image: {most_similar_image}\")\n",
        "                print(f\"True Label: {true_label}\")\n",
        "                print(f\"Predicted Label: {pred_label}\")\n",
        "        except Exception as e:\n",
        "            print(f\"Error processing {test_image}: {str(e)}\")\n",
        "\n",
        "    # Check for empty lists\n",
        "    if not y_true or not y_pred:\n",
        "        print(f\"No predictions made for model {model_name}. Please check your dataset and paths.\")\n",
        "        return\n",
        "\n",
        "    # Print true and predicted labels for further debugging\n",
        "    print(\"True labels: \", y_true)\n",
        "    print(\"Predicted labels: \", y_pred)\n",
        "\n",
        "    # Calculate accuracy\n",
        "    accuracy = accuracy_score(y_true, y_pred)\n",
        "    print(f\"Accuracy for model {model_name}: {accuracy * 100:.2f}%\")\n",
        "\n",
        "# Evaluate all models\n",
        "for model in models:\n",
        "    evaluate_model(model)\n"
      ],
      "metadata": {
        "id": "dOptAIMZUnay",
        "outputId": "9df61133-f79d-43d1-cdfd-32cdb25daaa1",
        "colab": {
          "base_uri": "https://localhost:8080/"
        }
      },
      "execution_count": null,
      "outputs": [
        {
          "output_type": "stream",
          "name": "stderr",
          "text": [
            "Finding representations:  43%|████▎     | 463/1081 [09:26<11:32,  1.12s/it]"
          ]
        }
      ]
    },
    {
      "cell_type": "code",
      "source": [],
      "metadata": {
        "id": "sdprOesOVJnG"
      },
      "execution_count": null,
      "outputs": []
    }
  ]
}